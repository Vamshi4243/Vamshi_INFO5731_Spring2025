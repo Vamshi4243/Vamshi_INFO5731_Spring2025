{
  "cells": [
    {
      "cell_type": "markdown",
      "metadata": {
        "id": "VdRwkJBn70nX"
      },
      "source": [
        "# **INFO5731 Assignment: 4**\n",
        "\n",
        "**This exercise will provide a valuable learning experience in working with text data and extracting features using various topic modeling algorithms. Key concepts such as Latent Dirichlet Allocation (LDA), Latent Semantic Analysis (LSA) and BERTopic.**"
      ]
    },
    {
      "cell_type": "markdown",
      "source": [
        "\n",
        "\n",
        "**Expectations**:\n",
        "*   Students are expected to complete the exercise during lecture period to meet the active participation criteria of the course.\n",
        "*   Use the provided .*ipynb* document to write your code & respond to the questions. Avoid generating a new file.\n",
        "*   Write complete answers and run all the cells before submission.\n",
        "*   Make sure the submission is \"clean\"; *i.e.*, no unnecessary code cells.\n",
        "*   Once finished, allow shared rights from top right corner (*see Canvas for details*).\n",
        "\n",
        "**Total points**: 100\n",
        "\n",
        "\n",
        "NOTE: The output should be presented well to get **full points**\n",
        "\n",
        "**Late submissions will have a penalty of 10% of the marks for each day of late submission, and no requests will be answered. Manage your time accordingly.**\n"
      ],
      "metadata": {
        "id": "TU-pLW33lpcS"
      }
    },
    {
      "cell_type": "markdown",
      "source": [
        "# **Question 1 (20 Points)**"
      ],
      "metadata": {
        "id": "lPTYY22vDnWu"
      }
    },
    {
      "cell_type": "markdown",
      "source": [
        "**Dataset**: 20 Newsgroups dataset\n",
        "\n",
        "**Dataset Link**: https://scikit-learn.org/0.19/datasets/twenty_newsgroups.html\n",
        "\n",
        "**Consider Random 2000 rows only**\n",
        "\n",
        "Generate K=10 topics by using LDA and LSA,\n",
        "then calculate coherence score and determine the optimized K value by the coherence score. Further, summarize and visualize each topics in you own words.\n"
      ],
      "metadata": {
        "id": "dUkAOXJQDq0J"
      }
    },
    {
      "cell_type": "code",
      "source": [
        "!pip install gensim\n",
        "!pip install pyLDAvis\n",
        "!pip install bertopic"
      ],
      "metadata": {
        "colab": {
          "base_uri": "https://localhost:8080/"
        },
        "collapsed": true,
        "id": "nwkFgmulL2_R",
        "outputId": "7e3f9b76-bcc6-452c-d955-892125c2e8aa"
      },
      "execution_count": null,
      "outputs": [
        {
          "output_type": "stream",
          "name": "stdout",
          "text": [
            "Collecting gensim\n",
            "  Downloading gensim-4.3.3-cp311-cp311-manylinux_2_17_x86_64.manylinux2014_x86_64.whl.metadata (8.1 kB)\n",
            "Collecting numpy<2.0,>=1.18.5 (from gensim)\n",
            "  Downloading numpy-1.26.4-cp311-cp311-manylinux_2_17_x86_64.manylinux2014_x86_64.whl.metadata (61 kB)\n",
            "\u001b[2K     \u001b[90m━━━━━━━━━━━━━━━━━━━━━━━━━━━━━━━━━━━━━━━━\u001b[0m \u001b[32m61.0/61.0 kB\u001b[0m \u001b[31m2.8 MB/s\u001b[0m eta \u001b[36m0:00:00\u001b[0m\n",
            "\u001b[?25hCollecting scipy<1.14.0,>=1.7.0 (from gensim)\n",
            "  Downloading scipy-1.13.1-cp311-cp311-manylinux_2_17_x86_64.manylinux2014_x86_64.whl.metadata (60 kB)\n",
            "\u001b[2K     \u001b[90m━━━━━━━━━━━━━━━━━━━━━━━━━━━━━━━━━━━━━━━━\u001b[0m \u001b[32m60.6/60.6 kB\u001b[0m \u001b[31m3.1 MB/s\u001b[0m eta \u001b[36m0:00:00\u001b[0m\n",
            "\u001b[?25hRequirement already satisfied: smart-open>=1.8.1 in /usr/local/lib/python3.11/dist-packages (from gensim) (7.1.0)\n",
            "Requirement already satisfied: wrapt in /usr/local/lib/python3.11/dist-packages (from smart-open>=1.8.1->gensim) (1.17.2)\n",
            "Downloading gensim-4.3.3-cp311-cp311-manylinux_2_17_x86_64.manylinux2014_x86_64.whl (26.7 MB)\n",
            "\u001b[2K   \u001b[90m━━━━━━━━━━━━━━━━━━━━━━━━━━━━━━━━━━━━━━━━\u001b[0m \u001b[32m26.7/26.7 MB\u001b[0m \u001b[31m66.7 MB/s\u001b[0m eta \u001b[36m0:00:00\u001b[0m\n",
            "\u001b[?25hDownloading numpy-1.26.4-cp311-cp311-manylinux_2_17_x86_64.manylinux2014_x86_64.whl (18.3 MB)\n",
            "\u001b[2K   \u001b[90m━━━━━━━━━━━━━━━━━━━━━━━━━━━━━━━━━━━━━━━━\u001b[0m \u001b[32m18.3/18.3 MB\u001b[0m \u001b[31m78.2 MB/s\u001b[0m eta \u001b[36m0:00:00\u001b[0m\n",
            "\u001b[?25hDownloading scipy-1.13.1-cp311-cp311-manylinux_2_17_x86_64.manylinux2014_x86_64.whl (38.6 MB)\n",
            "\u001b[2K   \u001b[90m━━━━━━━━━━━━━━━━━━━━━━━━━━━━━━━━━━━━━━━━\u001b[0m \u001b[32m38.6/38.6 MB\u001b[0m \u001b[31m14.7 MB/s\u001b[0m eta \u001b[36m0:00:00\u001b[0m\n",
            "\u001b[?25hInstalling collected packages: numpy, scipy, gensim\n",
            "  Attempting uninstall: numpy\n",
            "    Found existing installation: numpy 2.0.2\n",
            "    Uninstalling numpy-2.0.2:\n",
            "      Successfully uninstalled numpy-2.0.2\n",
            "  Attempting uninstall: scipy\n",
            "    Found existing installation: scipy 1.14.1\n",
            "    Uninstalling scipy-1.14.1:\n",
            "      Successfully uninstalled scipy-1.14.1\n",
            "Successfully installed gensim-4.3.3 numpy-1.26.4 scipy-1.13.1\n",
            "Collecting pyLDAvis\n",
            "  Downloading pyLDAvis-3.4.1-py3-none-any.whl.metadata (4.2 kB)\n",
            "Requirement already satisfied: numpy>=1.24.2 in /usr/local/lib/python3.11/dist-packages (from pyLDAvis) (1.26.4)\n",
            "Requirement already satisfied: scipy in /usr/local/lib/python3.11/dist-packages (from pyLDAvis) (1.13.1)\n",
            "Requirement already satisfied: pandas>=2.0.0 in /usr/local/lib/python3.11/dist-packages (from pyLDAvis) (2.2.2)\n",
            "Requirement already satisfied: joblib>=1.2.0 in /usr/local/lib/python3.11/dist-packages (from pyLDAvis) (1.4.2)\n",
            "Requirement already satisfied: jinja2 in /usr/local/lib/python3.11/dist-packages (from pyLDAvis) (3.1.6)\n",
            "Requirement already satisfied: numexpr in /usr/local/lib/python3.11/dist-packages (from pyLDAvis) (2.10.2)\n",
            "Collecting funcy (from pyLDAvis)\n",
            "  Downloading funcy-2.0-py2.py3-none-any.whl.metadata (5.9 kB)\n",
            "Requirement already satisfied: scikit-learn>=1.0.0 in /usr/local/lib/python3.11/dist-packages (from pyLDAvis) (1.6.1)\n",
            "Requirement already satisfied: gensim in /usr/local/lib/python3.11/dist-packages (from pyLDAvis) (4.3.3)\n",
            "Requirement already satisfied: setuptools in /usr/local/lib/python3.11/dist-packages (from pyLDAvis) (75.2.0)\n",
            "Requirement already satisfied: python-dateutil>=2.8.2 in /usr/local/lib/python3.11/dist-packages (from pandas>=2.0.0->pyLDAvis) (2.8.2)\n",
            "Requirement already satisfied: pytz>=2020.1 in /usr/local/lib/python3.11/dist-packages (from pandas>=2.0.0->pyLDAvis) (2025.2)\n",
            "Requirement already satisfied: tzdata>=2022.7 in /usr/local/lib/python3.11/dist-packages (from pandas>=2.0.0->pyLDAvis) (2025.2)\n",
            "Requirement already satisfied: threadpoolctl>=3.1.0 in /usr/local/lib/python3.11/dist-packages (from scikit-learn>=1.0.0->pyLDAvis) (3.6.0)\n",
            "Requirement already satisfied: smart-open>=1.8.1 in /usr/local/lib/python3.11/dist-packages (from gensim->pyLDAvis) (7.1.0)\n",
            "Requirement already satisfied: MarkupSafe>=2.0 in /usr/local/lib/python3.11/dist-packages (from jinja2->pyLDAvis) (3.0.2)\n",
            "Requirement already satisfied: six>=1.5 in /usr/local/lib/python3.11/dist-packages (from python-dateutil>=2.8.2->pandas>=2.0.0->pyLDAvis) (1.17.0)\n",
            "Requirement already satisfied: wrapt in /usr/local/lib/python3.11/dist-packages (from smart-open>=1.8.1->gensim->pyLDAvis) (1.17.2)\n",
            "Downloading pyLDAvis-3.4.1-py3-none-any.whl (2.6 MB)\n",
            "\u001b[2K   \u001b[90m━━━━━━━━━━━━━━━━━━━━━━━━━━━━━━━━━━━━━━━━\u001b[0m \u001b[32m2.6/2.6 MB\u001b[0m \u001b[31m24.7 MB/s\u001b[0m eta \u001b[36m0:00:00\u001b[0m\n",
            "\u001b[?25hDownloading funcy-2.0-py2.py3-none-any.whl (30 kB)\n",
            "Installing collected packages: funcy, pyLDAvis\n",
            "Successfully installed funcy-2.0 pyLDAvis-3.4.1\n",
            "Collecting bertopic\n",
            "  Downloading bertopic-0.17.0-py3-none-any.whl.metadata (23 kB)\n",
            "Requirement already satisfied: hdbscan>=0.8.29 in /usr/local/lib/python3.11/dist-packages (from bertopic) (0.8.40)\n",
            "Requirement already satisfied: numpy>=1.20.0 in /usr/local/lib/python3.11/dist-packages (from bertopic) (1.26.4)\n",
            "Requirement already satisfied: pandas>=1.1.5 in /usr/local/lib/python3.11/dist-packages (from bertopic) (2.2.2)\n",
            "Requirement already satisfied: plotly>=4.7.0 in /usr/local/lib/python3.11/dist-packages (from bertopic) (5.24.1)\n",
            "Requirement already satisfied: scikit-learn>=1.0 in /usr/local/lib/python3.11/dist-packages (from bertopic) (1.6.1)\n",
            "Requirement already satisfied: sentence-transformers>=0.4.1 in /usr/local/lib/python3.11/dist-packages (from bertopic) (3.4.1)\n",
            "Requirement already satisfied: tqdm>=4.41.1 in /usr/local/lib/python3.11/dist-packages (from bertopic) (4.67.1)\n",
            "Requirement already satisfied: umap-learn>=0.5.0 in /usr/local/lib/python3.11/dist-packages (from bertopic) (0.5.7)\n",
            "Requirement already satisfied: scipy>=1.0 in /usr/local/lib/python3.11/dist-packages (from hdbscan>=0.8.29->bertopic) (1.13.1)\n",
            "Requirement already satisfied: joblib>=1.0 in /usr/local/lib/python3.11/dist-packages (from hdbscan>=0.8.29->bertopic) (1.4.2)\n",
            "Requirement already satisfied: python-dateutil>=2.8.2 in /usr/local/lib/python3.11/dist-packages (from pandas>=1.1.5->bertopic) (2.8.2)\n",
            "Requirement already satisfied: pytz>=2020.1 in /usr/local/lib/python3.11/dist-packages (from pandas>=1.1.5->bertopic) (2025.2)\n",
            "Requirement already satisfied: tzdata>=2022.7 in /usr/local/lib/python3.11/dist-packages (from pandas>=1.1.5->bertopic) (2025.2)\n",
            "Requirement already satisfied: tenacity>=6.2.0 in /usr/local/lib/python3.11/dist-packages (from plotly>=4.7.0->bertopic) (9.1.2)\n",
            "Requirement already satisfied: packaging in /usr/local/lib/python3.11/dist-packages (from plotly>=4.7.0->bertopic) (24.2)\n",
            "Requirement already satisfied: threadpoolctl>=3.1.0 in /usr/local/lib/python3.11/dist-packages (from scikit-learn>=1.0->bertopic) (3.6.0)\n",
            "Requirement already satisfied: transformers<5.0.0,>=4.41.0 in /usr/local/lib/python3.11/dist-packages (from sentence-transformers>=0.4.1->bertopic) (4.50.3)\n",
            "Requirement already satisfied: torch>=1.11.0 in /usr/local/lib/python3.11/dist-packages (from sentence-transformers>=0.4.1->bertopic) (2.6.0+cu124)\n",
            "Requirement already satisfied: huggingface-hub>=0.20.0 in /usr/local/lib/python3.11/dist-packages (from sentence-transformers>=0.4.1->bertopic) (0.30.1)\n",
            "Requirement already satisfied: Pillow in /usr/local/lib/python3.11/dist-packages (from sentence-transformers>=0.4.1->bertopic) (11.1.0)\n",
            "Requirement already satisfied: numba>=0.51.2 in /usr/local/lib/python3.11/dist-packages (from umap-learn>=0.5.0->bertopic) (0.60.0)\n",
            "Requirement already satisfied: pynndescent>=0.5 in /usr/local/lib/python3.11/dist-packages (from umap-learn>=0.5.0->bertopic) (0.5.13)\n",
            "Requirement already satisfied: filelock in /usr/local/lib/python3.11/dist-packages (from huggingface-hub>=0.20.0->sentence-transformers>=0.4.1->bertopic) (3.18.0)\n",
            "Requirement already satisfied: fsspec>=2023.5.0 in /usr/local/lib/python3.11/dist-packages (from huggingface-hub>=0.20.0->sentence-transformers>=0.4.1->bertopic) (2025.3.2)\n",
            "Requirement already satisfied: pyyaml>=5.1 in /usr/local/lib/python3.11/dist-packages (from huggingface-hub>=0.20.0->sentence-transformers>=0.4.1->bertopic) (6.0.2)\n",
            "Requirement already satisfied: requests in /usr/local/lib/python3.11/dist-packages (from huggingface-hub>=0.20.0->sentence-transformers>=0.4.1->bertopic) (2.32.3)\n",
            "Requirement already satisfied: typing-extensions>=3.7.4.3 in /usr/local/lib/python3.11/dist-packages (from huggingface-hub>=0.20.0->sentence-transformers>=0.4.1->bertopic) (4.13.0)\n",
            "Requirement already satisfied: llvmlite<0.44,>=0.43.0dev0 in /usr/local/lib/python3.11/dist-packages (from numba>=0.51.2->umap-learn>=0.5.0->bertopic) (0.43.0)\n",
            "Requirement already satisfied: six>=1.5 in /usr/local/lib/python3.11/dist-packages (from python-dateutil>=2.8.2->pandas>=1.1.5->bertopic) (1.17.0)\n",
            "Requirement already satisfied: networkx in /usr/local/lib/python3.11/dist-packages (from torch>=1.11.0->sentence-transformers>=0.4.1->bertopic) (3.4.2)\n",
            "Requirement already satisfied: jinja2 in /usr/local/lib/python3.11/dist-packages (from torch>=1.11.0->sentence-transformers>=0.4.1->bertopic) (3.1.6)\n",
            "Collecting nvidia-cuda-nvrtc-cu12==12.4.127 (from torch>=1.11.0->sentence-transformers>=0.4.1->bertopic)\n",
            "  Downloading nvidia_cuda_nvrtc_cu12-12.4.127-py3-none-manylinux2014_x86_64.whl.metadata (1.5 kB)\n",
            "Collecting nvidia-cuda-runtime-cu12==12.4.127 (from torch>=1.11.0->sentence-transformers>=0.4.1->bertopic)\n",
            "  Downloading nvidia_cuda_runtime_cu12-12.4.127-py3-none-manylinux2014_x86_64.whl.metadata (1.5 kB)\n",
            "Collecting nvidia-cuda-cupti-cu12==12.4.127 (from torch>=1.11.0->sentence-transformers>=0.4.1->bertopic)\n",
            "  Downloading nvidia_cuda_cupti_cu12-12.4.127-py3-none-manylinux2014_x86_64.whl.metadata (1.6 kB)\n",
            "Collecting nvidia-cudnn-cu12==9.1.0.70 (from torch>=1.11.0->sentence-transformers>=0.4.1->bertopic)\n",
            "  Downloading nvidia_cudnn_cu12-9.1.0.70-py3-none-manylinux2014_x86_64.whl.metadata (1.6 kB)\n",
            "Collecting nvidia-cublas-cu12==12.4.5.8 (from torch>=1.11.0->sentence-transformers>=0.4.1->bertopic)\n",
            "  Downloading nvidia_cublas_cu12-12.4.5.8-py3-none-manylinux2014_x86_64.whl.metadata (1.5 kB)\n",
            "Collecting nvidia-cufft-cu12==11.2.1.3 (from torch>=1.11.0->sentence-transformers>=0.4.1->bertopic)\n",
            "  Downloading nvidia_cufft_cu12-11.2.1.3-py3-none-manylinux2014_x86_64.whl.metadata (1.5 kB)\n",
            "Collecting nvidia-curand-cu12==10.3.5.147 (from torch>=1.11.0->sentence-transformers>=0.4.1->bertopic)\n",
            "  Downloading nvidia_curand_cu12-10.3.5.147-py3-none-manylinux2014_x86_64.whl.metadata (1.5 kB)\n",
            "Collecting nvidia-cusolver-cu12==11.6.1.9 (from torch>=1.11.0->sentence-transformers>=0.4.1->bertopic)\n",
            "  Downloading nvidia_cusolver_cu12-11.6.1.9-py3-none-manylinux2014_x86_64.whl.metadata (1.6 kB)\n",
            "Collecting nvidia-cusparse-cu12==12.3.1.170 (from torch>=1.11.0->sentence-transformers>=0.4.1->bertopic)\n",
            "  Downloading nvidia_cusparse_cu12-12.3.1.170-py3-none-manylinux2014_x86_64.whl.metadata (1.6 kB)\n",
            "Requirement already satisfied: nvidia-cusparselt-cu12==0.6.2 in /usr/local/lib/python3.11/dist-packages (from torch>=1.11.0->sentence-transformers>=0.4.1->bertopic) (0.6.2)\n",
            "Requirement already satisfied: nvidia-nccl-cu12==2.21.5 in /usr/local/lib/python3.11/dist-packages (from torch>=1.11.0->sentence-transformers>=0.4.1->bertopic) (2.21.5)\n",
            "Requirement already satisfied: nvidia-nvtx-cu12==12.4.127 in /usr/local/lib/python3.11/dist-packages (from torch>=1.11.0->sentence-transformers>=0.4.1->bertopic) (12.4.127)\n",
            "Collecting nvidia-nvjitlink-cu12==12.4.127 (from torch>=1.11.0->sentence-transformers>=0.4.1->bertopic)\n",
            "  Downloading nvidia_nvjitlink_cu12-12.4.127-py3-none-manylinux2014_x86_64.whl.metadata (1.5 kB)\n",
            "Requirement already satisfied: triton==3.2.0 in /usr/local/lib/python3.11/dist-packages (from torch>=1.11.0->sentence-transformers>=0.4.1->bertopic) (3.2.0)\n",
            "Requirement already satisfied: sympy==1.13.1 in /usr/local/lib/python3.11/dist-packages (from torch>=1.11.0->sentence-transformers>=0.4.1->bertopic) (1.13.1)\n",
            "Requirement already satisfied: mpmath<1.4,>=1.1.0 in /usr/local/lib/python3.11/dist-packages (from sympy==1.13.1->torch>=1.11.0->sentence-transformers>=0.4.1->bertopic) (1.3.0)\n",
            "Requirement already satisfied: regex!=2019.12.17 in /usr/local/lib/python3.11/dist-packages (from transformers<5.0.0,>=4.41.0->sentence-transformers>=0.4.1->bertopic) (2024.11.6)\n",
            "Requirement already satisfied: tokenizers<0.22,>=0.21 in /usr/local/lib/python3.11/dist-packages (from transformers<5.0.0,>=4.41.0->sentence-transformers>=0.4.1->bertopic) (0.21.1)\n",
            "Requirement already satisfied: safetensors>=0.4.3 in /usr/local/lib/python3.11/dist-packages (from transformers<5.0.0,>=4.41.0->sentence-transformers>=0.4.1->bertopic) (0.5.3)\n",
            "Requirement already satisfied: MarkupSafe>=2.0 in /usr/local/lib/python3.11/dist-packages (from jinja2->torch>=1.11.0->sentence-transformers>=0.4.1->bertopic) (3.0.2)\n",
            "Requirement already satisfied: charset-normalizer<4,>=2 in /usr/local/lib/python3.11/dist-packages (from requests->huggingface-hub>=0.20.0->sentence-transformers>=0.4.1->bertopic) (3.4.1)\n",
            "Requirement already satisfied: idna<4,>=2.5 in /usr/local/lib/python3.11/dist-packages (from requests->huggingface-hub>=0.20.0->sentence-transformers>=0.4.1->bertopic) (3.10)\n",
            "Requirement already satisfied: urllib3<3,>=1.21.1 in /usr/local/lib/python3.11/dist-packages (from requests->huggingface-hub>=0.20.0->sentence-transformers>=0.4.1->bertopic) (2.3.0)\n",
            "Requirement already satisfied: certifi>=2017.4.17 in /usr/local/lib/python3.11/dist-packages (from requests->huggingface-hub>=0.20.0->sentence-transformers>=0.4.1->bertopic) (2025.1.31)\n",
            "Downloading bertopic-0.17.0-py3-none-any.whl (150 kB)\n",
            "\u001b[2K   \u001b[90m━━━━━━━━━━━━━━━━━━━━━━━━━━━━━━━━━━━━━━━━\u001b[0m \u001b[32m150.6/150.6 kB\u001b[0m \u001b[31m5.3 MB/s\u001b[0m eta \u001b[36m0:00:00\u001b[0m\n",
            "\u001b[?25hDownloading nvidia_cublas_cu12-12.4.5.8-py3-none-manylinux2014_x86_64.whl (363.4 MB)\n",
            "\u001b[2K   \u001b[90m━━━━━━━━━━━━━━━━━━━━━━━━━━━━━━━━━━━━━━━━\u001b[0m \u001b[32m363.4/363.4 MB\u001b[0m \u001b[31m4.3 MB/s\u001b[0m eta \u001b[36m0:00:00\u001b[0m\n",
            "\u001b[?25hDownloading nvidia_cuda_cupti_cu12-12.4.127-py3-none-manylinux2014_x86_64.whl (13.8 MB)\n",
            "\u001b[2K   \u001b[90m━━━━━━━━━━━━━━━━━━━━━━━━━━━━━━━━━━━━━━━━\u001b[0m \u001b[32m13.8/13.8 MB\u001b[0m \u001b[31m62.6 MB/s\u001b[0m eta \u001b[36m0:00:00\u001b[0m\n",
            "\u001b[?25hDownloading nvidia_cuda_nvrtc_cu12-12.4.127-py3-none-manylinux2014_x86_64.whl (24.6 MB)\n",
            "\u001b[2K   \u001b[90m━━━━━━━━━━━━━━━━━━━━━━━━━━━━━━━━━━━━━━━━\u001b[0m \u001b[32m24.6/24.6 MB\u001b[0m \u001b[31m54.0 MB/s\u001b[0m eta \u001b[36m0:00:00\u001b[0m\n",
            "\u001b[?25hDownloading nvidia_cuda_runtime_cu12-12.4.127-py3-none-manylinux2014_x86_64.whl (883 kB)\n",
            "\u001b[2K   \u001b[90m━━━━━━━━━━━━━━━━━━━━━━━━━━━━━━━━━━━━━━━━\u001b[0m \u001b[32m883.7/883.7 kB\u001b[0m \u001b[31m42.1 MB/s\u001b[0m eta \u001b[36m0:00:00\u001b[0m\n",
            "\u001b[?25hDownloading nvidia_cudnn_cu12-9.1.0.70-py3-none-manylinux2014_x86_64.whl (664.8 MB)\n",
            "\u001b[2K   \u001b[90m━━━━━━━━━━━━━━━━━━━━━━━━━━━━━━━━━━━━━━━━\u001b[0m \u001b[32m664.8/664.8 MB\u001b[0m \u001b[31m2.2 MB/s\u001b[0m eta \u001b[36m0:00:00\u001b[0m\n",
            "\u001b[?25hDownloading nvidia_cufft_cu12-11.2.1.3-py3-none-manylinux2014_x86_64.whl (211.5 MB)\n",
            "\u001b[2K   \u001b[90m━━━━━━━━━━━━━━━━━━━━━━━━━━━━━━━━━━━━━━━━\u001b[0m \u001b[32m211.5/211.5 MB\u001b[0m \u001b[31m5.9 MB/s\u001b[0m eta \u001b[36m0:00:00\u001b[0m\n",
            "\u001b[?25hDownloading nvidia_curand_cu12-10.3.5.147-py3-none-manylinux2014_x86_64.whl (56.3 MB)\n",
            "\u001b[2K   \u001b[90m━━━━━━━━━━━━━━━━━━━━━━━━━━━━━━━━━━━━━━━━\u001b[0m \u001b[32m56.3/56.3 MB\u001b[0m \u001b[31m12.2 MB/s\u001b[0m eta \u001b[36m0:00:00\u001b[0m\n",
            "\u001b[?25hDownloading nvidia_cusolver_cu12-11.6.1.9-py3-none-manylinux2014_x86_64.whl (127.9 MB)\n",
            "\u001b[2K   \u001b[90m━━━━━━━━━━━━━━━━━━━━━━━━━━━━━━━━━━━━━━━━\u001b[0m \u001b[32m127.9/127.9 MB\u001b[0m \u001b[31m7.4 MB/s\u001b[0m eta \u001b[36m0:00:00\u001b[0m\n",
            "\u001b[?25hDownloading nvidia_cusparse_cu12-12.3.1.170-py3-none-manylinux2014_x86_64.whl (207.5 MB)\n",
            "\u001b[2K   \u001b[90m━━━━━━━━━━━━━━━━━━━━━━━━━━━━━━━━━━━━━━━━\u001b[0m \u001b[32m207.5/207.5 MB\u001b[0m \u001b[31m5.9 MB/s\u001b[0m eta \u001b[36m0:00:00\u001b[0m\n",
            "\u001b[?25hDownloading nvidia_nvjitlink_cu12-12.4.127-py3-none-manylinux2014_x86_64.whl (21.1 MB)\n",
            "\u001b[2K   \u001b[90m━━━━━━━━━━━━━━━━━━━━━━━━━━━━━━━━━━━━━━━━\u001b[0m \u001b[32m21.1/21.1 MB\u001b[0m \u001b[31m52.2 MB/s\u001b[0m eta \u001b[36m0:00:00\u001b[0m\n",
            "\u001b[?25hInstalling collected packages: nvidia-nvjitlink-cu12, nvidia-curand-cu12, nvidia-cufft-cu12, nvidia-cuda-runtime-cu12, nvidia-cuda-nvrtc-cu12, nvidia-cuda-cupti-cu12, nvidia-cublas-cu12, nvidia-cusparse-cu12, nvidia-cudnn-cu12, nvidia-cusolver-cu12, bertopic\n",
            "  Attempting uninstall: nvidia-nvjitlink-cu12\n",
            "    Found existing installation: nvidia-nvjitlink-cu12 12.5.82\n",
            "    Uninstalling nvidia-nvjitlink-cu12-12.5.82:\n",
            "      Successfully uninstalled nvidia-nvjitlink-cu12-12.5.82\n",
            "  Attempting uninstall: nvidia-curand-cu12\n",
            "    Found existing installation: nvidia-curand-cu12 10.3.6.82\n",
            "    Uninstalling nvidia-curand-cu12-10.3.6.82:\n",
            "      Successfully uninstalled nvidia-curand-cu12-10.3.6.82\n",
            "  Attempting uninstall: nvidia-cufft-cu12\n",
            "    Found existing installation: nvidia-cufft-cu12 11.2.3.61\n",
            "    Uninstalling nvidia-cufft-cu12-11.2.3.61:\n",
            "      Successfully uninstalled nvidia-cufft-cu12-11.2.3.61\n",
            "  Attempting uninstall: nvidia-cuda-runtime-cu12\n",
            "    Found existing installation: nvidia-cuda-runtime-cu12 12.5.82\n",
            "    Uninstalling nvidia-cuda-runtime-cu12-12.5.82:\n",
            "      Successfully uninstalled nvidia-cuda-runtime-cu12-12.5.82\n",
            "  Attempting uninstall: nvidia-cuda-nvrtc-cu12\n",
            "    Found existing installation: nvidia-cuda-nvrtc-cu12 12.5.82\n",
            "    Uninstalling nvidia-cuda-nvrtc-cu12-12.5.82:\n",
            "      Successfully uninstalled nvidia-cuda-nvrtc-cu12-12.5.82\n",
            "  Attempting uninstall: nvidia-cuda-cupti-cu12\n",
            "    Found existing installation: nvidia-cuda-cupti-cu12 12.5.82\n",
            "    Uninstalling nvidia-cuda-cupti-cu12-12.5.82:\n",
            "      Successfully uninstalled nvidia-cuda-cupti-cu12-12.5.82\n",
            "  Attempting uninstall: nvidia-cublas-cu12\n",
            "    Found existing installation: nvidia-cublas-cu12 12.5.3.2\n",
            "    Uninstalling nvidia-cublas-cu12-12.5.3.2:\n",
            "      Successfully uninstalled nvidia-cublas-cu12-12.5.3.2\n",
            "  Attempting uninstall: nvidia-cusparse-cu12\n",
            "    Found existing installation: nvidia-cusparse-cu12 12.5.1.3\n",
            "    Uninstalling nvidia-cusparse-cu12-12.5.1.3:\n",
            "      Successfully uninstalled nvidia-cusparse-cu12-12.5.1.3\n",
            "  Attempting uninstall: nvidia-cudnn-cu12\n",
            "    Found existing installation: nvidia-cudnn-cu12 9.3.0.75\n",
            "    Uninstalling nvidia-cudnn-cu12-9.3.0.75:\n",
            "      Successfully uninstalled nvidia-cudnn-cu12-9.3.0.75\n",
            "  Attempting uninstall: nvidia-cusolver-cu12\n",
            "    Found existing installation: nvidia-cusolver-cu12 11.6.3.83\n",
            "    Uninstalling nvidia-cusolver-cu12-11.6.3.83:\n",
            "      Successfully uninstalled nvidia-cusolver-cu12-11.6.3.83\n",
            "Successfully installed bertopic-0.17.0 nvidia-cublas-cu12-12.4.5.8 nvidia-cuda-cupti-cu12-12.4.127 nvidia-cuda-nvrtc-cu12-12.4.127 nvidia-cuda-runtime-cu12-12.4.127 nvidia-cudnn-cu12-9.1.0.70 nvidia-cufft-cu12-11.2.1.3 nvidia-curand-cu12-10.3.5.147 nvidia-cusolver-cu12-11.6.1.9 nvidia-cusparse-cu12-12.3.1.170 nvidia-nvjitlink-cu12-12.4.127\n"
          ]
        }
      ]
    },
    {
      "cell_type": "code",
      "source": [
        "import random\n",
        "import numpy as np\n",
        "import matplotlib.pyplot as plt\n",
        "import warnings\n",
        "warnings.filterwarnings(\"ignore\", category=DeprecationWarning)\n",
        "# Import dataset and text processing libraries\n",
        "from sklearn.datasets import fetch_20newsgroups\n",
        "import gensim\n",
        "from gensim import corpora, models\n",
        "from gensim.models import CoherenceModel\n",
        "import nltk\n",
        "from nltk.corpus import stopwords\n",
        "from nltk.stem import WordNetLemmatizer\n",
        "import re\n",
        "\n",
        "# Download necessary NLTK data\n",
        "nltk.download('stopwords')\n",
        "nltk.download('wordnet')\n",
        "nltk.download('omw-1.4')\n",
        "\n",
        "# -------------------------------\n",
        "# Load the 20 Newsgroups dataset and sample 2000 rows\n",
        "# -------------------------------\n",
        "newsgroups = fetch_20newsgroups(remove=('headers', 'footers', 'quotes'))\n",
        "documents = newsgroups.data\n",
        "print(f\"Total documents in dataset: {len(documents)}\")\n",
        "\n",
        "# Randomly sample 2000 documents\n",
        "random.seed(42)\n",
        "sampled_docs = random.sample(documents, 2000)\n",
        "print(f\"Number of sampled documents: {len(sampled_docs)}\")\n",
        "\n",
        "# -------------------------------\n",
        "# Preprocess texts\n",
        "# -------------------------------\n",
        "stop_words = set(stopwords.words('english'))\n",
        "lemmatizer = WordNetLemmatizer()\n",
        "\n",
        "def preprocess(text):\n",
        "    # Lowercase and remove non-alphabetical characters\n",
        "    text = text.lower()\n",
        "    text = re.sub(r'\\s+', ' ', text)\n",
        "    text = re.sub(r'[^a-zA-Z]', ' ', text)\n",
        "    # Tokenize and remove stopwords and short tokens, then lemmatize\n",
        "    tokens = [lemmatizer.lemmatize(token) for token in text.split() if token not in stop_words and len(token) > 2]\n",
        "    return tokens\n",
        "\n",
        "processed_docs = [preprocess(doc) for doc in sampled_docs]\n",
        "\n",
        "# -------------------------------\n",
        "# Create Dictionary and Corpus\n",
        "# -------------------------------\n",
        "dictionary = corpora.Dictionary(processed_docs)\n",
        "dictionary.filter_extremes(no_below=10, no_above=0.5)\n",
        "corpus = [dictionary.doc2bow(doc) for doc in processed_docs]\n",
        "\n",
        "# -------------------------------\n",
        "# Build LDA and LSA models with K=10 topics\n",
        "# -------------------------------\n",
        "K = 10\n",
        "\n",
        "# LDA Model\n",
        "lda_model = gensim.models.LdaModel(corpus=corpus,\n",
        "                                   id2word=dictionary,\n",
        "                                   num_topics=K,\n",
        "                                   random_state=42,\n",
        "                                   update_every=1,\n",
        "                                   chunksize=100,\n",
        "                                   passes=10,\n",
        "                                   alpha='auto',\n",
        "                                   per_word_topics=True)\n",
        "\n",
        "# LSA (LSI) Model\n",
        "lsi_model = gensim.models.LsiModel(corpus=corpus,\n",
        "                                   id2word=dictionary,\n",
        "                                   num_topics=K)\n",
        "\n",
        "# -------------------------------\n",
        "# Compute Coherence Scores for LDA and LSA models\n",
        "# -------------------------------\n",
        "# For LDA\n",
        "coherence_model_lda = CoherenceModel(model=lda_model, texts=processed_docs, dictionary=dictionary, coherence='c_v')\n",
        "coherence_lda = coherence_model_lda.get_coherence()\n",
        "print(f\"LDA Model Coherence Score (K={K}): {coherence_lda:.4f}\")\n",
        "\n",
        "# For LSA\n",
        "coherence_model_lsi = CoherenceModel(model=lsi_model, texts=processed_docs, dictionary=dictionary, coherence='c_v')\n",
        "coherence_lsi = coherence_model_lsi.get_coherence()\n",
        "print(f\"LSA (LSI) Model Coherence Score (K={K}): {coherence_lsi:.4f}\")\n",
        "\n",
        "# -------------------------------\n",
        "# Determine the optimized K value by varying number of topics\n",
        "# -------------------------------\n",
        "def compute_coherence_values(dictionary, corpus, texts, limit, start=5, step=1, model_type='lda'):\n",
        "    \"\"\"\n",
        "    Compute c_v coherence for various number of topics.\n",
        "    Returns: model_list, coherence_values, topic_range\n",
        "    \"\"\"\n",
        "    coherence_values = []\n",
        "    model_list = []\n",
        "    topic_range = range(start, limit, step)\n",
        "    for num_topics in topic_range:\n",
        "        if model_type == 'lda':\n",
        "            model = gensim.models.LdaModel(corpus=corpus,\n",
        "                                           id2word=dictionary,\n",
        "                                           num_topics=num_topics,\n",
        "                                           random_state=42,\n",
        "                                           update_every=1,\n",
        "                                           chunksize=100,\n",
        "                                           passes=10,\n",
        "                                           alpha='auto')\n",
        "        elif model_type == 'lsi':\n",
        "            model = gensim.models.LsiModel(corpus=corpus,\n",
        "                                           id2word=dictionary,\n",
        "                                           num_topics=num_topics)\n",
        "        else:\n",
        "            raise ValueError(\"model_type must be either 'lda' or 'lsi'\")\n",
        "        model_list.append(model)\n",
        "        coherencemodel = CoherenceModel(model=model, texts=texts, dictionary=dictionary, coherence='c_v')\n",
        "        coherence_values.append(coherencemodel.get_coherence())\n",
        "    return model_list, coherence_values, list(topic_range)\n",
        "\n",
        "# Calculate coherence scores for LDA for topics range 5 to 15\n",
        "lda_models, lda_coherence_values, topic_range = compute_coherence_values(dictionary, corpus, processed_docs, limit=16, start=5, step=1, model_type='lda')\n",
        "\n",
        "# Plot coherence scores for LDA\n",
        "plt.figure(figsize=(8, 5))\n",
        "plt.plot(topic_range, lda_coherence_values, marker='o')\n",
        "plt.xlabel(\"Number of Topics (LDA)\")\n",
        "plt.ylabel(\"Coherence Score\")\n",
        "plt.title(\"LDA Coherence Scores by Number of Topics\")\n",
        "plt.show()\n",
        "\n",
        "optimal_k_lda = topic_range[np.argmax(lda_coherence_values)]\n",
        "print(f\"Optimal number of topics for LDA: {optimal_k_lda}\")\n",
        "\n",
        "# compute for LSI (LSA)\n",
        "lsi_models, lsi_coherence_values, topic_range = compute_coherence_values(dictionary, corpus, processed_docs, limit=16, start=5, step=1, model_type='lsi')\n",
        "\n",
        "# Plot coherence scores for LSA\n",
        "plt.figure(figsize=(8, 5))\n",
        "plt.plot(topic_range, lsi_coherence_values, marker='o', color='green')\n",
        "plt.xlabel(\"Number of Topics (LSA)\")\n",
        "plt.ylabel(\"Coherence Score\")\n",
        "plt.title(\"LSA (LSI) Coherence Scores by Number of Topics\")\n",
        "plt.show()\n",
        "\n",
        "optimal_k_lsi = topic_range[np.argmax(lsi_coherence_values)]\n",
        "print(f\"Optimal number of topics for LSA: {optimal_k_lsi}\")\n",
        "\n",
        "# -------------------------------\n",
        "# Summarize and Visualize Each Topic\n",
        "# -------------------------------\n",
        "def print_topics(model, model_name, num_words=10):\n",
        "    print(f\"\\nTop {num_words} words per topic for {model_name}:\")\n",
        "    topics = model.print_topics(num_words=num_words)\n",
        "    for topic_num, topic in topics:\n",
        "        # Create a simple summary using keywords\n",
        "        keywords = re.findall(r'\\\"(.*?)\\\"', topic)\n",
        "        summary = f\"Topic {topic_num}: \" + \", \".join(keywords)\n",
        "        print(summary)\n",
        "\n",
        "# Print topics for the initial K=10 models\n",
        "print_topics(lda_model, \"LDA (K=10)\")\n",
        "print_topics(lsi_model, \"LSA (K=10)\")\n",
        "# Visualization using pyLDAvis for LDA model in Google Colab\n",
        "try:\n",
        "    import pyLDAvis\n",
        "    import pyLDAvis.gensim_models as gensimvis\n",
        "    pyLDAvis.enable_notebook()  # Enable inline display in Google Colab\n",
        "    lda_vis = gensimvis.prepare(lda_model, corpus, dictionary)\n",
        "    lda_vis  # The visualization will appear below this cell\n",
        "except ImportError:\n",
        "    print(\"pyLDAvis is not installed. To visualize LDA topics, please install it via pip (pip install pyLDAvis).\")"
      ],
      "metadata": {
        "id": "0MjJXg-fpHo6",
        "colab": {
          "base_uri": "https://localhost:8080/",
          "height": 1000
        },
        "outputId": "8e7f9088-ab30-4a7d-b07a-8ddfc8c18f87"
      },
      "execution_count": null,
      "outputs": [
        {
          "output_type": "stream",
          "name": "stderr",
          "text": [
            "[nltk_data] Downloading package stopwords to /root/nltk_data...\n",
            "[nltk_data]   Package stopwords is already up-to-date!\n",
            "[nltk_data] Downloading package wordnet to /root/nltk_data...\n",
            "[nltk_data]   Package wordnet is already up-to-date!\n",
            "[nltk_data] Downloading package omw-1.4 to /root/nltk_data...\n",
            "[nltk_data]   Package omw-1.4 is already up-to-date!\n"
          ]
        },
        {
          "output_type": "stream",
          "name": "stdout",
          "text": [
            "Total documents in dataset: 11314\n",
            "Number of sampled documents: 2000\n",
            "LDA Model Coherence Score (K=10): 0.4223\n",
            "LSA (LSI) Model Coherence Score (K=10): 0.5070\n"
          ]
        },
        {
          "output_type": "display_data",
          "data": {
            "text/plain": [
              "<Figure size 800x500 with 1 Axes>"
            ],
            "image/png": "[encoded data removed]"
          },
          "metadata": {}
        },
        {
          "output_type": "stream",
          "name": "stdout",
          "text": [
            "Optimal number of topics for LDA: 7\n"
          ]
        },
        {
          "output_type": "display_data",
          "data": {
            "text/plain": [
              "<Figure size 800x500 with 1 Axes>"
            ],
            "image/png": "[encoded data removed]"
          },
          "metadata": {}
        },
        {
          "output_type": "stream",
          "name": "stdout",
          "text": [
            "Optimal number of topics for LSA: 11\n",
            "\n",
            "Top 10 words per topic for LDA (K=10):\n",
            "Topic 0: problem, use, system, entry, went, support, may, motif, used, set\n",
            "Topic 1: armenian, space, turk, night, head, turkish, third, home, mark, three\n",
            "Topic 2: key, keyboard, car, driver, product, data, use, new, card, technology\n",
            "Topic 3: ground, level, rate, russian, year, control, day, cover, current, center\n",
            "Topic 4: one, people, say, think, said, even, would, see, many, time\n",
            "Topic 5: law, government, right, jew, state, gun, soldier, chip, understand, would\n",
            "Topic 6: god, game, team, encryption, player, sale, play, font, love, site\n",
            "Topic 7: like, would, know, good, get, one, year, time, want, anyone\n",
            "Topic 8: max, drive, disk, signal, judge, bus, wire, serial, controller, port\n",
            "Topic 9: window, file, edu, list, program, com, information, available, version, mail\n",
            "\n",
            "Top 10 words per topic for LSA (K=10):\n",
            "Topic 0: max, part, end, tie, fax, drive, space, edu, master, system\n",
            "Topic 1: one, entry, window, get, program, file, use, know, people, information\n",
            "Topic 2: said, know, people, armenian, window, one, say, entry, program, would\n",
            "Topic 3: entry, window, file, rule, section, motif, program, build, available, must\n",
            "Topic 4: drive, dod, master, armenian, window, entry, use, said, car, system\n",
            "Topic 5: drive, dod, master, motorcycle, single, armenian, head, led, open, rec\n",
            "Topic 6: dod, motorcycle, drive, president, health, encryption, rec, key, ride, list\n",
            "Topic 7: president, going, know, something, job, health, one, use, armenian, encryption\n",
            "Topic 8: health, encryption, among, key, technology, device, state, disease, year, government\n",
            "Topic 9: car, tire, brake, oil, may, drive, health, dod, driver, much\n"
          ]
        }
      ]
    },
    {
      "cell_type": "markdown",
      "source": [
        "The topics from LDA and LSA cover themes like technology, politics, science, and health. LDA shows discussions around computers, religion, geopolitics, and daily tech use, while LSA captures more specific clusters like car mechanics, encryption, and medical concerns.These the models reveal a wide range of interests from practical tech issues to deeper political and social topics.\n",
        "\n",
        "\n",
        "\n",
        "\n",
        "\n",
        "\n",
        "\n",
        "\n"
      ],
      "metadata": {
        "id": "XZg3_OTjQY0R"
      }
    },
    {
      "cell_type": "markdown",
      "source": [
        "# **BERTopic**"
      ],
      "metadata": {
        "id": "nJc0d1D-8FDk"
      }
    },
    {
      "cell_type": "markdown",
      "source": [
        "The following question is designed to help you develop a feel for the way topic modeling works, the connection to the human meanings of documents.\n",
        "\n",
        "Dataset from **assignment-3** (text dataset) .\n",
        "\n",
        "> Dont use any custom datasets.\n",
        "\n",
        "\n",
        "> Dataset must have 1000+ rows, no duplicates and null values\n",
        "\n"
      ],
      "metadata": {
        "id": "a4kaHgnnJqQh"
      }
    },
    {
      "cell_type": "markdown",
      "source": [
        "# **Question 2 (20 Points)**"
      ],
      "metadata": {
        "id": "KfXGIvg36_P_"
      }
    },
    {
      "cell_type": "markdown",
      "source": [
        "\n",
        "\n",
        "Q2) **Generate K=10 topics by using BERTopic and then find optimal K value by the coherence score. Interpret each topic and visualize with suitable style.**"
      ],
      "metadata": {
        "id": "38D2s1f77Ebc"
      }
    },
    {
      "cell_type": "code",
      "source": [
        "import pandas as pd\n",
        "import numpy as np\n",
        "import re\n",
        "import matplotlib.pyplot as plt\n",
        "from nltk.corpus import stopwords\n",
        "from nltk import download\n",
        "from bertopic import BERTopic\n",
        "from collections import Counter\n",
        "from itertools import combinations\n",
        "download(\"stopwords\")\n",
        "stops = set(stopwords.words(\"english\"))\n",
        "data = pd.read_csv(\"sentiment_data.csv\")\n",
        "texts = data[\"review\"].astype(str).tolist()\n",
        "\n",
        "def preprocess(text):\n",
        "    text = re.sub(r\"<[^>]+>\", \" \", text)\n",
        "    text = re.sub(r\"[^a-zA-Z']\", \" \", text)\n",
        "    return text.lower().strip()\n",
        "\n",
        "processed = [preprocess(t) for t in texts]\n",
        "tokenized = [[word for word in doc.split() if word not in stops] for doc in processed]\n",
        "word_counts = Counter()\n",
        "pair_counts = Counter()\n",
        "n_docs = len(tokenized)\n",
        "for tokens in tokenized:\n",
        "    unique = set(tokens)\n",
        "    word_counts.update(unique)\n",
        "    pair_counts.update(combinations(sorted(unique), 2))\n",
        "\n",
        "def pmi_score(topics, word_freq, pair_freq, n_docs, epsilon=1e-9):\n",
        "    topic_scores = []\n",
        "    for topic in topics:\n",
        "        pmi_vals = []\n",
        "        for w1, w2 in combinations(topic, 2):\n",
        "            prob_w1 = word_freq[w1] / n_docs\n",
        "            prob_w2 = word_freq[w2] / n_docs\n",
        "            pair = tuple(sorted((w1, w2)))\n",
        "            prob_pair = pair_freq.get(pair, 0) / n_docs\n",
        "            pmi_vals.append(np.log((prob_pair + epsilon) / (prob_w1 * prob_w2 + epsilon)))\n",
        "        if pmi_vals:\n",
        "            topic_scores.append(np.mean(pmi_vals))\n",
        "    return np.mean(topic_scores) if topic_scores else 0.0\n",
        "\n",
        "# Generate initial 10 topics for preview\n",
        "model_10 = BERTopic(top_n_words=10)\n",
        "model_10.fit(processed)\n",
        "print(\"Top 10 Topics:\")\n",
        "for i in range(10):\n",
        "    topic = model_10.get_topic(i)\n",
        "    if topic:\n",
        "        top_words = [w for w, _ in topic]\n",
        "        print(f\"Topic {i}: {top_words}\")\n",
        "        print(f\"Interpretation: This topic appears to be about {', '.join(top_words)}.\\n\")\n",
        "\n",
        "# Evaluate coherence for K values in range 5 to 15\n",
        "k_range = list(range(5, 16))\n",
        "scores = []\n",
        "for k in k_range:\n",
        "    model = BERTopic(top_n_words=10)\n",
        "    model.fit(processed)\n",
        "    model.reduce_topics(processed, nr_topics=k)\n",
        "    topic_words = []\n",
        "    for t_id in model.get_topics():\n",
        "        topic = model.get_topic(t_id)\n",
        "        if topic:\n",
        "            topic_words.append([w for w, _ in topic][:10])\n",
        "    coherence = pmi_score(topic_words, word_counts, pair_counts, n_docs)\n",
        "    scores.append(coherence)\n",
        "    print(f\"K = {k} | Coherence = {coherence:.4f}\")\n",
        "\n",
        "# Determine optimal K based on coherence\n",
        "optimal_k = k_range[np.argmax(scores)]\n",
        "print(f\"\\nOptimal number of topics (based on PMI coherence): K = {optimal_k}\")\n",
        "\n",
        "# Visualize coherence scores\n",
        "plt.figure(figsize=(9, 5))\n",
        "plt.plot(k_range, scores, marker='o', color='darkgreen')\n",
        "plt.title(\"PMI Coherence vs. Number of Topics\")\n",
        "plt.xlabel(\"Number of Topics (K)\")\n",
        "plt.ylabel(\"PMI Coherence\")\n",
        "plt.grid(True)\n",
        "plt.tight_layout()\n",
        "plt.show()\n",
        "\n",
        "# Generate and visualize topics for optimal K\n",
        "opt_model = BERTopic(top_n_words=10)\n",
        "opt_model.fit(processed)\n",
        "opt_model.reduce_topics(processed, nr_topics=optimal_k)\n",
        "opt_topics = opt_model.get_topics()\n",
        "\n",
        "print(\"\\nTopics for Optimal K:\")\n",
        "for t_id, terms in opt_topics.items():\n",
        "    top_words = [w for w, _ in terms]\n",
        "    print(f\"Topic {t_id}: {top_words}\")\n",
        "    print(f\"Interpretation: This topic appears to be about {', '.join(top_words)}.\\n\")\n",
        "# Bar chart of top words per topic for optimal model\n",
        "plt.figure(figsize=(12, 6))\n",
        "for t_id, terms in opt_topics.items():\n",
        "    words = [w for w, _ in terms]\n",
        "    plt.barh(range(len(words)), range(len(words)), tick_label=words, label=f\"Topic {t_id}\")\n",
        "plt.gca().invert_yaxis()\n",
        "plt.legend()\n",
        "plt.title(\"Top Words per Topic (Optimal K)\")\n",
        "plt.tight_layout()\n",
        "plt.show()"
      ],
      "metadata": {
        "id": "NjUfA8LE7OLN",
        "colab": {
          "base_uri": "https://localhost:8080/",
          "height": 1000
        },
        "outputId": "f469dbf0-2d42-4aaa-f0ab-91ebf2c017f0"
      },
      "execution_count": null,
      "outputs": [
        {
          "output_type": "stream",
          "name": "stderr",
          "text": [
            "[nltk_data] Downloading package stopwords to /root/nltk_data...\n",
            "[nltk_data]   Package stopwords is already up-to-date!\n"
          ]
        },
        {
          "output_type": "stream",
          "name": "stdout",
          "text": [
            "Top 10 Topics:\n",
            "Topic 0: ['the', 'and', 'of', 'to', 'is', 'in', 'this', 'it', 'that', 'was']\n",
            "Interpretation: This topic appears to be about the, and, of, to, is, in, this, it, that, was.\n",
            "\n",
            "Topic 1: ['the', 'of', 'and', 'to', 'is', 'it', 'in', 'show', 'that', 'this']\n",
            "Interpretation: This topic appears to be about the, of, and, to, is, it, in, show, that, this.\n",
            "\n",
            "K = 5 | Coherence = 0.0000\n",
            "K = 6 | Coherence = 0.0000\n",
            "K = 7 | Coherence = 0.0000\n",
            "K = 8 | Coherence = 0.0000\n",
            "K = 9 | Coherence = 0.0000\n",
            "K = 10 | Coherence = 0.0000\n",
            "K = 11 | Coherence = 0.0000\n",
            "K = 12 | Coherence = 0.0000\n",
            "K = 13 | Coherence = 0.0000\n",
            "K = 14 | Coherence = 0.0000\n",
            "K = 15 | Coherence = 0.0000\n",
            "\n",
            "Optimal number of topics (based on PMI coherence): K = 5\n"
          ]
        },
        {
          "output_type": "display_data",
          "data": {
            "text/plain": [
              "<Figure size 900x500 with 1 Axes>"
            ],
            "image/png": "[encoded data removed]"
          },
          "metadata": {}
        },
        {
          "output_type": "stream",
          "name": "stdout",
          "text": [
            "\n",
            "Topics for Optimal K:\n",
            "Topic -1: ['the', 'and', 'of', 'to', 'is', 'this', 'it', 'in', 'that', 'as']\n",
            "Interpretation: This topic appears to be about the, and, of, to, is, this, it, in, that, as.\n",
            "\n",
            "Topic 0: ['the', 'and', 'of', 'to', 'is', 'in', 'this', 'it', 'that', 'was']\n",
            "Interpretation: This topic appears to be about the, and, of, to, is, in, this, it, that, was.\n",
            "\n",
            "Topic 1: ['the', 'and', 'of', 'to', 'it', 'show', 'that', 'in', 'is', 'series']\n",
            "Interpretation: This topic appears to be about the, and, of, to, it, show, that, in, is, series.\n",
            "\n"
          ]
        },
        {
          "output_type": "display_data",
          "data": {
            "text/plain": [
              "<Figure size 1200x600 with 1 Axes>"
            ],
            "image/png": "[encoded data removed]"
          },
          "metadata": {}
        }
      ]
    },
    {
      "cell_type": "markdown",
      "source": [
        "# **Question 3 (25 points)**\n"
      ],
      "metadata": {
        "id": "zoxBIMZfK--R"
      }
    },
    {
      "cell_type": "markdown",
      "source": [
        "**Dataset Link**: 20 Newsgroup Dataset (Random 2000 values)\n",
        "\n",
        "Q3) Using a given dataset, Modify the default representation model by integrating OpenAI's GPT model to generate meaningful summaries for each topic. Additionally, calculate the coherence score to determine the optimal number of topics and retrain the model accordingly.\n",
        "\n"
      ],
      "metadata": {
        "id": "4lWF1tj96rF9"
      }
    },
    {
      "cell_type": "markdown",
      "source": [
        "Usefull Link: https://maartengr.github.io/BERTopic/getting_started/representation/llm#truncating-documents"
      ],
      "metadata": {
        "id": "3TbQrsW7e4Qg"
      }
    },
    {
      "cell_type": "code",
      "source": [
        "# Import required libraries\n",
        "import random\n",
        "from bertopic import BERTopic\n",
        "from sklearn.datasets import fetch_20newsgroups\n",
        "from sentence_transformers import SentenceTransformer\n",
        "\n",
        "# For coherence calculation\n",
        "from gensim.models.coherencemodel import CoherenceModel\n",
        "\n",
        "# -----------------------------\n",
        "# load the Dataset\n",
        "# -----------------------------\n",
        "# Fetch the full 20 Newsgroups dataset and then randomly select 2000 documents.\n",
        "newsgroups = fetch_20newsgroups(remove=('headers', 'footers', 'quotes'))\n",
        "all_docs = newsgroups.data\n",
        "random.seed(42)\n",
        "docs = random.sample(all_docs, 2000)\n",
        "\n",
        "# -----------------------------\n",
        "# Use a Local Sentence Transformer Model for Embeddings\n",
        "# -----------------------------\n",
        "local_model = SentenceTransformer(\"all-MiniLM-L6-v2\")\n",
        "\n",
        "# -----------------------------\n",
        "# 3. Fit the BERTopic Model\n",
        "# -----------------------------\n",
        "# Instantiate BERTopic using the local embeddings model.\n",
        "topic_model = BERTopic(embedding_model=local_model)\n",
        "topics, probs = topic_model.fit_transform(docs)\n",
        "\n",
        "# View initial topics information\n",
        "print(\"Initial Topics:\")\n",
        "print(topic_model.get_topic_info())\n",
        "\n",
        "from gensim.corpora import Dictionary\n",
        "\n",
        "# -----------------------------\n",
        "# Calculate Baseline Coherence Score\n",
        "# -----------------------------\n",
        "from gensim.models.coherencemodel import CoherenceModel\n",
        "from gensim.corpora import Dictionary\n",
        "\n",
        "def get_topics_as_list(topic_model, top_n=10):\n",
        "    topics_dict = topic_model.get_topics()\n",
        "    topics_list = []\n",
        "    for topic, words in topics_dict.items():\n",
        "        if topic == -1:  # Skip outlier topic\n",
        "            continue\n",
        "        topics_list.append([word for word, _ in words][:top_n])\n",
        "    return topics_list\n",
        "\n",
        "# Tokenize the documents\n",
        "tokenized_docs = [doc.split() for doc in docs]\n",
        "\n",
        "# Create dictionary for gensim\n",
        "dictionary = Dictionary(tokenized_docs)\n",
        "\n",
        "# Get topic words\n",
        "topics_words = get_topics_as_list(topic_model, top_n=10)\n",
        "\n",
        "# Compute coherence\n",
        "coherence_model = CoherenceModel(\n",
        "    topics=topics_words,\n",
        "    texts=tokenized_docs,\n",
        "    dictionary=dictionary,\n",
        "    coherence='c_v'\n",
        ")\n",
        "baseline_coherence = coherence_model.get_coherence()\n",
        "print(f\"Baseline Coherence Score: {baseline_coherence:.4f}\")\n",
        "\n",
        "# -----------------------------\n",
        "# Determine the Optimal Number of Topics\n",
        "# -----------------------------\n",
        "candidate_range = range(5, 31, 5)\n",
        "coherence_scores = {}\n",
        "\n",
        "for nr_topics in candidate_range:\n",
        "    # Reduce the topics\n",
        "    reduced_model = topic_model.reduce_topics(docs, nr_topics=nr_topics)\n",
        "\n",
        "    # Get topic words\n",
        "    reduced_topics_words = get_topics_as_list(reduced_model, top_n=10)\n",
        "\n",
        "    # Calculate coherence score\n",
        "    cm = CoherenceModel(\n",
        "        topics=reduced_topics_words,\n",
        "        texts=tokenized_docs,\n",
        "        dictionary=dictionary,\n",
        "        coherence='c_v'\n",
        "    )\n",
        "    coherence = cm.get_coherence()\n",
        "    coherence_scores[nr_topics] = coherence\n",
        "    print(f\"Nr Topics: {nr_topics} --> Coherence: {coherence:.4f}\")\n",
        "\n",
        "# Find optimal number of topics\n",
        "optimal_topics = max(coherence_scores, key=coherence_scores.get)\n",
        "print(f\"\\nOptimal number of topics determined by coherence: {optimal_topics}\")\n",
        "\n",
        "# -----------------------------\n",
        "# Reduce to Optimal Number of Topics\n",
        "# -----------------------------\n",
        "optimal_model = topic_model.reduce_topics(docs, nr_topics=optimal_topics)\n",
        "\n",
        "print(\"\\nFinal Topics after Reduction:\")\n",
        "print(optimal_model.get_topic_info())"
      ],
      "metadata": {
        "colab": {
          "base_uri": "https://localhost:8080/"
        },
        "id": "RRamxU4oan8J",
        "outputId": "a9e3a5ad-b15d-47ce-c3e6-2d17288b6e5d"
      },
      "execution_count": null,
      "outputs": [
        {
          "output_type": "stream",
          "name": "stdout",
          "text": [
            "Initial Topics:\n",
            "   Topic  Count             Name  \\\n",
            "0      0   1756   0_ax_the_to_of   \n",
            "1      1    174  1_the_in_to_and   \n",
            "2      2     36          2_hi___   \n",
            "3      3     34     3_ites_huh__   \n",
            "\n",
            "                                  Representation  \\\n",
            "0  [ax, the, to, of, and, is, in, that, it, you]   \n",
            "1  [the, in, to, and, of, he, that, 00, was, is]   \n",
            "2                         [hi, , , , , , , , , ]   \n",
            "3                    [ites, huh, , , , , , , , ]   \n",
            "\n",
            "                                 Representative_Docs  \n",
            "0  [This kind of argument cries for a comment...\\...  \n",
            "1  [\\nWhatever you say.  I think it's just 12 gam...  \n",
            "2                                       [, Hi,, Hi,]  \n",
            "3                                  [, \\nHuh?, ites:]  \n",
            "Baseline Coherence Score: 0.6987\n",
            "Nr Topics: 5 --> Coherence: 0.6987\n",
            "Nr Topics: 10 --> Coherence: 0.6987\n",
            "Nr Topics: 15 --> Coherence: 0.6987\n",
            "Nr Topics: 20 --> Coherence: 0.6987\n",
            "Nr Topics: 25 --> Coherence: 0.6987\n",
            "Nr Topics: 30 --> Coherence: 0.6987\n",
            "\n",
            "Optimal number of topics determined by coherence: 5\n",
            "\n",
            "Final Topics after Reduction:\n",
            "   Topic  Count             Name  \\\n",
            "0      0   1756   0_ax_the_to_of   \n",
            "1      1    174  1_the_in_to_and   \n",
            "2      2     36          2_hi___   \n",
            "3      3     34     3_ites_huh__   \n",
            "\n",
            "                                  Representation  \\\n",
            "0  [ax, the, to, of, and, is, in, that, it, you]   \n",
            "1  [the, in, to, and, of, he, that, 00, was, is]   \n",
            "2                         [hi, , , , , , , , , ]   \n",
            "3                    [ites, huh, , , , , , , , ]   \n",
            "\n",
            "                                 Representative_Docs  \n",
            "0  [This kind of argument cries for a comment...\\...  \n",
            "1  [\\nWhatever you say.  I think it's just 12 gam...  \n",
            "2                                       [, Hi,, Hi,]  \n",
            "3                                  [, \\nHuh?, ites:]  \n"
          ]
        }
      ]
    },
    {
      "cell_type": "markdown",
      "source": [
        "Note: I did not manage using GPT because of quotas unavailability!"
      ],
      "metadata": {
        "id": "_JWGnglG09vU"
      }
    },
    {
      "cell_type": "markdown",
      "source": [
        "# **Question 4 (35 Points)**"
      ],
      "metadata": {
        "id": "c-a-fRBtgI-Z"
      }
    },
    {
      "cell_type": "markdown",
      "metadata": {
        "id": "7nZGAOwl70ng"
      },
      "source": [
        "\n",
        "**BERTopic** allows for extensive customization, including the choice of embedding models, dimensionality reduction techniques, and clustering algorithms.\n",
        "\n",
        "**Dataset Link**: 20 Newsgroup Dataset (Random 2000 values)\n",
        "\n",
        "4)\n",
        "\n",
        "4.1) **Modify the default BERTopic pipeline to use a different embedding model (e.g., Sentence-Transformers) and a different clustering algorithm (e.g., DBSCAN instead of HDBSCAN).\n",
        "\n",
        "4.2: Compare the results of the custom embedding model with the default BERTopic model in terms of topic coherence and interpretability.\n",
        "\n",
        "4.3: Visualize the topics and provide a qualitative analysis of the differences\n",
        "\n",
        "**"
      ]
    },
    {
      "cell_type": "markdown",
      "source": [
        "Usefull Link :https://www.pinecone.io/learn/bertopic/"
      ],
      "metadata": {
        "id": "LYVtmLugexRE"
      }
    },
    {
      "cell_type": "code",
      "source": [
        "import random\n",
        "import nltk\n",
        "import numpy as np\n",
        "import pandas as pd\n",
        "import matplotlib.pyplot as plt\n",
        "\n",
        "# Download stopwords if not already present\n",
        "nltk.download('stopwords')\n",
        "from nltk.corpus import stopwords\n",
        "\n",
        "# Load the 20 Newsgroups dataset and select 2000 random documents\n",
        "from sklearn.datasets import fetch_20newsgroups\n",
        "\n",
        "# Load full dataset (you can adjust subset as needed)\n",
        "newsgroups = fetch_20newsgroups(subset='all', remove=('headers', 'footers', 'quotes'))\n",
        "all_docs = newsgroups.data\n",
        "\n",
        "# Randomly sample 2000 documents\n",
        "random.seed(42)\n",
        "sample_docs = random.sample(all_docs, 2000)\n",
        "\n",
        "# Convert to DataFrame for easier handling\n",
        "data = pd.DataFrame({'text': sample_docs})\n",
        "\n",
        "# Create the default BERTopic model\n",
        "from bertopic import BERTopic\n",
        "\n",
        "print(\"Fitting the default BERTopic model...\")\n",
        "default_model = BERTopic(language=\"english\", calculate_probabilities=True, verbose=True)\n",
        "default_topics, default_probs = default_model.fit_transform(data['text'].tolist())\n",
        "\n",
        "# Display top topics from default model\n",
        "print(\"\\nDefault BERTopic Model - Top Topics:\")\n",
        "print(default_model.get_topic_info().head(10))\n",
        "\n",
        "# Set up custom components for the custom BERTopic pipeline\n",
        "\n",
        "# Custom embedding model using Sentence-Transformers\n",
        "from sentence_transformers import SentenceTransformer\n",
        "embedding_model = SentenceTransformer('all-MiniLM-L6-v2')\n",
        "\n",
        "# Custom UMAP model\n",
        "from umap import UMAP\n",
        "umap_model = UMAP(n_neighbors=3, n_components=3, min_dist=0.05, random_state=42)\n",
        "\n",
        "# Custom clustering algorithm: DBSCAN\n",
        "from sklearn.cluster import DBSCAN\n",
        "dbscan_model = DBSCAN(eps=0.5, min_samples=5)\n",
        "\n",
        "# Custom vectorizer model with extended stopwords\n",
        "additional_stopwords = ['http', 'https', 'amp', 'com']\n",
        "stop_words = list(stopwords.words('english')) + additional_stopwords\n",
        "\n",
        "from sklearn.feature_extraction.text import CountVectorizer\n",
        "vectorizer_model = CountVectorizer(ngram_range=(1, 2), stop_words=stop_words)\n",
        "\n",
        "# Create and fit the custom BERTopic model with the new components.\n",
        "print(\"\\nFitting the custom BERTopic model with Sentence-Transformers and DBSCAN...\")\n",
        "custom_model = BERTopic(\n",
        "    embedding_model=embedding_model,\n",
        "    umap_model=umap_model,\n",
        "    hdbscan_model=dbscan_model,  # Pass DBSCAN as the clustering model using hdbscan_model keyword\n",
        "    vectorizer_model=vectorizer_model,\n",
        "    top_n_words=5,\n",
        "    language='english',\n",
        "    calculate_probabilities=True,\n",
        "    verbose=True\n",
        ")\n",
        "custom_topics, custom_probs = custom_model.fit_transform(data['text'].tolist())\n",
        "\n",
        "# Display top topics from custom model\n",
        "print(\"\\nCustom BERTopic Model - Top Topics:\")\n",
        "print(custom_model.get_topic_info().head(10))"
      ],
      "metadata": {
        "colab": {
          "base_uri": "https://localhost:8080/",
          "height": 1000,
          "referenced_widgets": [
            "a01a0dcc944540ff91ed27af1c4493fe",
            "3be7bb5948ef43b88a7e9f85ff519dc1",
            "a51cc6e3c5374c47b0ea1fda051c09a7",
            "238d13ae71104c92a00e93d0610b341a",
            "951cc73094624c589f11f4d58f5db387",
            "7e32673fa4bc424fb2bd08473ff41b78",
            "bb9c9b84198d45b5827ea0885af5d9e9",
            "736925ca14c74579891096f4185b23bc",
            "505e32a6ced54f1e90a74f92ae196c51",
            "9e0cc7b1e50f4c11aa8df800cf51965f",
            "cfd6194c88ce453e9c41382f33f2bc44",
            "81a59dd445394bc3897158cd2aad9ad0",
            "38a47460d81a401f8ff32793d4f873ba",
            "40f74add9e084913a9ca9796b67ea063",
            "d46c10678eef42b88e51098dc0a50520",
            "7681f5fba352401c870a022c92323823",
            "2903822d90b745e4a22b476737c47257",
            "84e5fc856e794cd59cc2526e6847fb43",
            "3345772def7442119ff4e83932c40d23",
            "f78748445573433f8cc3224535421bc0",
            "e4a8339b3e2d414ab5870af4e0d3a236",
            "377dee13315e488298067a4e8b6320e3"
          ]
        },
        "id": "65FHiQQxdzgZ",
        "outputId": "e4c2f3bf-7a0b-4034-8f36-198e2bbe226e"
      },
      "execution_count": null,
      "outputs": [
        {
          "metadata": {
            "tags": null
          },
          "name": "stderr",
          "output_type": "stream",
          "text": [
            "[nltk_data] Downloading package stopwords to /root/nltk_data...\n",
            "[nltk_data]   Package stopwords is already up-to-date!\n",
            "2025-04-06 14:56:37,228 - BERTopic - Embedding - Transforming documents to embeddings.\n"
          ]
        },
        {
          "metadata": {
            "tags": null
          },
          "name": "stdout",
          "output_type": "stream",
          "text": [
            "Fitting the default BERTopic model...\n"
          ]
        },
        {
          "data": {
            "application/vnd.jupyter.widget-view+json": {
              "model_id": "a01a0dcc944540ff91ed27af1c4493fe",
              "version_major": 2,
              "version_minor": 0
            },
            "text/plain": [
              "Batches:   0%|          | 0/63 [00:00<?, ?it/s]"
            ]
          },
          "metadata": {},
          "output_type": "display_data"
        },
        {
          "metadata": {
            "tags": null
          },
          "name": "stderr",
          "output_type": "stream",
          "text": [
            "2025-04-06 14:59:26,899 - BERTopic - Embedding - Completed ✓\n",
            "2025-04-06 14:59:26,901 - BERTopic - Dimensionality - Fitting the dimensionality reduction algorithm\n",
            "2025-04-06 14:59:36,365 - BERTopic - Dimensionality - Completed ✓\n",
            "2025-04-06 14:59:36,367 - BERTopic - Cluster - Start clustering the reduced embeddings\n",
            "2025-04-06 14:59:36,545 - BERTopic - Cluster - Completed ✓\n",
            "2025-04-06 14:59:36,551 - BERTopic - Representation - Fine-tuning topics using representation models.\n",
            "2025-04-06 14:59:37,158 - BERTopic - Representation - Completed ✓\n"
          ]
        },
        {
          "metadata": {
            "tags": null
          },
          "name": "stdout",
          "output_type": "stream",
          "text": [
            "\n",
            "Default BERTopic Model - Top Topics:\n",
            "   Topic  Count                  Name  \\\n",
            "0     -1    278     -1_the_to_that_of   \n",
            "1      0    667      0_the_to_for_and   \n",
            "2      1    204      1_the_of_to_that   \n",
            "3      2    200        2_the_25_he_in   \n",
            "4      3     97       3_the_to_of_key   \n",
            "5      4     94     4_the_space_of_to   \n",
            "6      5     93       5_the_of_is_and   \n",
            "7      6     76      6_the_car_it_and   \n",
            "8      7     51      7_the_of_to_that   \n",
            "9      8     39  8_to_sco_you_mailing   \n",
            "\n",
            "                                      Representation  \\\n",
            "0    [the, to, that, of, and, in, is, you, this, on]   \n",
            "1     [the, to, for, and, is, of, it, in, you, with]   \n",
            "2     [the, of, to, that, is, and, in, not, god, it]   \n",
            "3    [the, 25, he, in, to, game, of, and, team, was]   \n",
            "4  [the, to, of, key, and, is, encryption, be, in...   \n",
            "5   [the, space, of, to, and, in, for, that, on, is]   \n",
            "6     [the, of, is, and, to, in, that, it, she, are]   \n",
            "7     [the, car, it, and, for, in, is, of, to, cars]   \n",
            "8     [the, of, to, that, gun, and, is, you, in, it]   \n",
            "9  [to, sco, you, mailing, and, the, of, usenet, ...   \n",
            "\n",
            "                                 Representative_Docs  \n",
            "0  [Archive-name: rec-autos/part4\\n\\n[this articl...  \n",
            "1  [Hi,\\n   I'm currently in the process of writi...  \n",
            "2  [Rick Anderson replied to my letter with...\\n\\...  \n",
            "3  [\\nGant's ML record  Age 28 this season.\\n\\nYe...  \n",
            "4  [Archive-name: ripem/faq\\nLast-update: 31 Mar ...  \n",
            "5  [Archive-name: space/addresses\\nLast-modified:...  \n",
            "6  [\\nOne of the responsibilities of a licensed p...  \n",
            "7  [\\nTrue 914 enthusiasts will be able to give y...  \n",
            "8  [\\nThe Supreme Court seems to disagree with yo...  \n",
            "9  []I wrote the slash two blues for a bit of hum...  \n"
          ]
        },
        {
          "metadata": {
            "tags": null
          },
          "name": "stderr",
          "output_type": "stream",
          "text": [
            "2025-04-06 14:59:39,298 - BERTopic - Embedding - Transforming documents to embeddings.\n"
          ]
        },
        {
          "metadata": {
            "tags": null
          },
          "name": "stdout",
          "output_type": "stream",
          "text": [
            "\n",
            "Fitting the custom BERTopic model with Sentence-Transformers and DBSCAN...\n"
          ]
        },
        {
          "data": {
            "application/vnd.jupyter.widget-view+json": {
              "model_id": "81a59dd445394bc3897158cd2aad9ad0",
              "version_major": 2,
              "version_minor": 0
            },
            "text/plain": [
              "Batches:   0%|          | 0/63 [00:00<?, ?it/s]"
            ]
          },
          "metadata": {},
          "output_type": "display_data"
        },
        {
          "output_type": "stream",
          "name": "stderr",
          "text": [
            "2025-04-06 15:02:28,755 - BERTopic - Embedding - Completed ✓\n",
            "2025-04-06 15:02:28,757 - BERTopic - Dimensionality - Fitting the dimensionality reduction algorithm\n",
            "2025-04-06 15:02:33,297 - BERTopic - Dimensionality - Completed ✓\n",
            "2025-04-06 15:02:33,298 - BERTopic - Cluster - Start clustering the reduced embeddings\n",
            "2025-04-06 15:02:33,320 - BERTopic - Cluster - Completed ✓\n",
            "2025-04-06 15:02:33,326 - BERTopic - Representation - Fine-tuning topics using representation models.\n",
            "2025-04-06 15:02:35,167 - BERTopic - Representation - Completed ✓\n"
          ]
        },
        {
          "output_type": "stream",
          "name": "stdout",
          "text": [
            "\n",
            "Custom BERTopic Model - Top Topics:\n",
            "   Topic  Count                                             Name  \\\n",
            "0     -1      7                                   -1_m4_mu_mz_mt   \n",
            "1      0    594                                0_00_edu_file_ftp   \n",
            "2      1    221                           1_god_jesus_one_people   \n",
            "3      2    217                       2_key_would_encryption_one   \n",
            "4      3    210                              3_25_game_team_year   \n",
            "5      4    156                              4_car_bike_cars_one   \n",
            "6      5     93  5_president_stephanopoulos_mr stephanopoulos_mr   \n",
            "7      6     92                        6_space_nasa_launch_would   \n",
            "8      7     79                     7_chronic_patients_polio_get   \n",
            "9      8     45                        8_people_gun_militia_guns   \n",
            "\n",
            "                                      Representation  \\\n",
            "0                               [m4, mu, mz, mt, mp]   \n",
            "1                          [00, edu, file, ftp, get]   \n",
            "2                   [god, jesus, one, people, bible]   \n",
            "3                 [key, would, encryption, one, des]   \n",
            "4                      [25, game, team, year, games]   \n",
            "5                        [car, bike, cars, one, get]   \n",
            "6  [president, stephanopoulos, mr stephanopoulos,...   \n",
            "7               [space, nasa, launch, would, flight]   \n",
            "8              [chronic, patients, polio, get, good]   \n",
            "9                [people, gun, militia, guns, would]   \n",
            "\n",
            "                                 Representative_Docs  \n",
            "0  [G'day All,\\n\\nI was looking to build a Parall...  \n",
            "1  [Hi Netters,\\n\\nAs promised, here are the summ...  \n",
            "2  [\\n\\n\\nAre you your own master?  Do you have a...  \n",
            "3  [[This is a co-authored report from two of us ...  \n",
            "4  [As the Sharks' season came to a close tonight...  \n",
            "5  [Mail bounced, so...\\n\\n\\nTraditional wisdom s...  \n",
            "6  [THE WHITE HOUSE\\n\\n                    Office...  \n",
            "7  [There is an interesting opinion piece in the ...  \n",
            "8  [\\nOne of the responsibilities of a licensed p...  \n",
            "9  [\\n\\nSo, like, what do you do during those six...  \n"
          ]
        }
      ]
    },
    {
      "cell_type": "code",
      "source": [
        "import plotly.io as pio\n",
        "pio.renderers.default = \"colab\"\n",
        "\n",
        "print(\"\\nVisualizing custom topics...\")\n",
        "custom_vis = custom_model.visualize_barchart(top_n_topics=10)\n",
        "custom_vis.show()"
      ],
      "metadata": {
        "colab": {
          "base_uri": "https://localhost:8080/",
          "height": 804
        },
        "id": "BKu3b9CSmoLr",
        "outputId": "fda04c3a-b2a5-4489-c8c0-e394f814d6e5"
      },
      "execution_count": null,
      "outputs": [
        {
          "output_type": "stream",
          "name": "stdout",
          "text": [
            "\n",
            "Visualizing custom topics...\n"
          ]
        },
        {
          "output_type": "display_data",
          "data": {
            "text/html": [
              "<html>\n",
              "<head><meta charset=\"utf-8\" /></head>\n",
              "<body>\n",
              "    <div>            <script src=\"https://cdnjs.cloudflare.com/ajax/libs/mathjax/2.7.5/MathJax.js?config=TeX-AMS-MML_SVG\"></script><script type=\"text/javascript\">if (window.MathJax && window.MathJax.Hub && window.MathJax.Hub.Config) {window.MathJax.Hub.Config({SVG: {font: \"STIX-Web\"}});}</script>                <script type=\"text/javascript\">window.PlotlyConfig = {MathJaxConfig: 'local'};</script>\n",
              "        <script charset=\"utf-8\" src=\"https://cdn.plot.ly/plotly-2.35.2.min.js\"></script>                <div id=\"309cec2f-a9d5-46d2-8c8d-c9a7b1db4189\" class=\"plotly-graph-div\" style=\"height:750px; width:1000px;\"></div>            <script type=\"text/javascript\">                                    window.PLOTLYENV=window.PLOTLYENV || {};                                    if (document.getElementById(\"309cec2f-a9d5-46d2-8c8d-c9a7b1db4189\")) {                    Plotly.newPlot(                        \"309cec2f-a9d5-46d2-8c8d-c9a7b1db4189\",                        [{\"marker\":{\"color\":\"#D55E00\"},\"orientation\":\"h\",\"x\":[0.0066706337536875885,0.007386267939335683,0.007648119455227792,0.009811423523319991,0.009873264392192748],\"y\":[\"get  \",\"ftp  \",\"file  \",\"edu  \",\"00  \"],\"type\":\"bar\",\"xaxis\":\"x\",\"yaxis\":\"y\"},{\"marker\":{\"color\":\"#0072B2\"},\"orientation\":\"h\",\"x\":[0.00936479132790788,0.010662104417784915,0.011970148671687827,0.015291173733319076,0.02188623543728186],\"y\":[\"bible  \",\"people  \",\"one  \",\"jesus  \",\"god  \"],\"type\":\"bar\",\"xaxis\":\"x2\",\"yaxis\":\"y2\"},{\"marker\":{\"color\":\"#CC79A7\"},\"orientation\":\"h\",\"x\":[0.008943470210460571,0.009964133252981197,0.011015483320607733,0.012037042426805849,0.013587139634824085],\"y\":[\"des  \",\"one  \",\"encryption  \",\"would  \",\"key  \"],\"type\":\"bar\",\"xaxis\":\"x3\",\"yaxis\":\"y3\"},{\"marker\":{\"color\":\"#E69F00\"},\"orientation\":\"h\",\"x\":[0.010789857372453417,0.011865391844722684,0.017160312969899585,0.01828799722873159,0.024819303199906367],\"y\":[\"games  \",\"year  \",\"team  \",\"game  \",\"25  \"],\"type\":\"bar\",\"xaxis\":\"x4\",\"yaxis\":\"y4\"},{\"marker\":{\"color\":\"#56B4E9\"},\"orientation\":\"h\",\"x\":[0.01031985618407236,0.010420424926217121,0.010987460907877207,0.015794732834180328,0.020235951605271495],\"y\":[\"get  \",\"one  \",\"cars  \",\"bike  \",\"car  \"],\"type\":\"bar\",\"xaxis\":\"x5\",\"yaxis\":\"y5\"},{\"marker\":{\"color\":\"#009E73\"},\"orientation\":\"h\",\"x\":[0.016389074256723486,0.01942413937741999,0.020092807912260778,0.020197556151481475,0.023160813802762508],\"y\":[\"myers  \",\"mr  \",\"mr stephanopoulos  \",\"stephanopoulos  \",\"president  \"],\"type\":\"bar\",\"xaxis\":\"x6\",\"yaxis\":\"y6\"},{\"marker\":{\"color\":\"#F0E442\"},\"orientation\":\"h\",\"x\":[0.009872927622739993,0.011665798178139035,0.012248699011343308,0.0159233623479786,0.033638457282330336],\"y\":[\"flight  \",\"would  \",\"launch  \",\"nasa  \",\"space  \"],\"type\":\"bar\",\"xaxis\":\"x7\",\"yaxis\":\"y7\"},{\"marker\":{\"color\":\"#D55E00\"},\"orientation\":\"h\",\"x\":[0.010730549286366317,0.011449342359435651,0.012658350269818945,0.014132528290633302,0.01687692551146291],\"y\":[\"good  \",\"get  \",\"polio  \",\"patients  \",\"chronic  \"],\"type\":\"bar\",\"xaxis\":\"x8\",\"yaxis\":\"y8\"},{\"marker\":{\"color\":\"#0072B2\"},\"orientation\":\"h\",\"x\":[0.013400842864919835,0.013842030836998922,0.013963612384964146,0.0206552097889553,0.022697317893410195],\"y\":[\"would  \",\"guns  \",\"militia  \",\"gun  \",\"people  \"],\"type\":\"bar\",\"xaxis\":\"x9\",\"yaxis\":\"y9\"},{\"marker\":{\"color\":\"#CC79A7\"},\"orientation\":\"h\",\"x\":[0.018324684862331773,0.02035839870828371,0.02402235621697143,0.030384732656842654,0.051349664997496026],\"y\":[\"rules  \",\"program  \",\"sco  \",\"entries  \",\"entry  \"],\"type\":\"bar\",\"xaxis\":\"x10\",\"yaxis\":\"y10\"}],                        {\"template\":{\"data\":{\"barpolar\":[{\"marker\":{\"line\":{\"color\":\"white\",\"width\":0.5},\"pattern\":{\"fillmode\":\"overlay\",\"size\":10,\"solidity\":0.2}},\"type\":\"barpolar\"}],\"bar\":[{\"error_x\":{\"color\":\"#2a3f5f\"},\"error_y\":{\"color\":\"#2a3f5f\"},\"marker\":{\"line\":{\"color\":\"white\",\"width\":0.5},\"pattern\":{\"fillmode\":\"overlay\",\"size\":10,\"solidity\":0.2}},\"type\":\"bar\"}],\"carpet\":[{\"aaxis\":{\"endlinecolor\":\"#2a3f5f\",\"gridcolor\":\"#C8D4E3\",\"linecolor\":\"#C8D4E3\",\"minorgridcolor\":\"#C8D4E3\",\"startlinecolor\":\"#2a3f5f\"},\"baxis\":{\"endlinecolor\":\"#2a3f5f\",\"gridcolor\":\"#C8D4E3\",\"linecolor\":\"#C8D4E3\",\"minorgridcolor\":\"#C8D4E3\",\"startlinecolor\":\"#2a3f5f\"},\"type\":\"carpet\"}],\"choropleth\":[{\"colorbar\":{\"outlinewidth\":0,\"ticks\":\"\"},\"type\":\"choropleth\"}],\"contourcarpet\":[{\"colorbar\":{\"outlinewidth\":0,\"ticks\":\"\"},\"type\":\"contourcarpet\"}],\"contour\":[{\"colorbar\":{\"outlinewidth\":0,\"ticks\":\"\"},\"colorscale\":[[0.0,\"#0d0887\"],[0.1111111111111111,\"#46039f\"],[0.2222222222222222,\"#7201a8\"],[0.3333333333333333,\"#9c179e\"],[0.4444444444444444,\"#bd3786\"],[0.5555555555555556,\"#d8576b\"],[0.6666666666666666,\"#ed7953\"],[0.7777777777777778,\"#fb9f3a\"],[0.8888888888888888,\"#fdca26\"],[1.0,\"#f0f921\"]],\"type\":\"contour\"}],\"heatmapgl\":[{\"colorbar\":{\"outlinewidth\":0,\"ticks\":\"\"},\"colorscale\":[[0.0,\"#0d0887\"],[0.1111111111111111,\"#46039f\"],[0.2222222222222222,\"#7201a8\"],[0.3333333333333333,\"#9c179e\"],[0.4444444444444444,\"#bd3786\"],[0.5555555555555556,\"#d8576b\"],[0.6666666666666666,\"#ed7953\"],[0.7777777777777778,\"#fb9f3a\"],[0.8888888888888888,\"#fdca26\"],[1.0,\"#f0f921\"]],\"type\":\"heatmapgl\"}],\"heatmap\":[{\"colorbar\":{\"outlinewidth\":0,\"ticks\":\"\"},\"colorscale\":[[0.0,\"#0d0887\"],[0.1111111111111111,\"#46039f\"],[0.2222222222222222,\"#7201a8\"],[0.3333333333333333,\"#9c179e\"],[0.4444444444444444,\"#bd3786\"],[0.5555555555555556,\"#d8576b\"],[0.6666666666666666,\"#ed7953\"],[0.7777777777777778,\"#fb9f3a\"],[0.8888888888888888,\"#fdca26\"],[1.0,\"#f0f921\"]],\"type\":\"heatmap\"}],\"histogram2dcontour\":[{\"colorbar\":{\"outlinewidth\":0,\"ticks\":\"\"},\"colorscale\":[[0.0,\"#0d0887\"],[0.1111111111111111,\"#46039f\"],[0.2222222222222222,\"#7201a8\"],[0.3333333333333333,\"#9c179e\"],[0.4444444444444444,\"#bd3786\"],[0.5555555555555556,\"#d8576b\"],[0.6666666666666666,\"#ed7953\"],[0.7777777777777778,\"#fb9f3a\"],[0.8888888888888888,\"#fdca26\"],[1.0,\"#f0f921\"]],\"type\":\"histogram2dcontour\"}],\"histogram2d\":[{\"colorbar\":{\"outlinewidth\":0,\"ticks\":\"\"},\"colorscale\":[[0.0,\"#0d0887\"],[0.1111111111111111,\"#46039f\"],[0.2222222222222222,\"#7201a8\"],[0.3333333333333333,\"#9c179e\"],[0.4444444444444444,\"#bd3786\"],[0.5555555555555556,\"#d8576b\"],[0.6666666666666666,\"#ed7953\"],[0.7777777777777778,\"#fb9f3a\"],[0.8888888888888888,\"#fdca26\"],[1.0,\"#f0f921\"]],\"type\":\"histogram2d\"}],\"histogram\":[{\"marker\":{\"pattern\":{\"fillmode\":\"overlay\",\"size\":10,\"solidity\":0.2}},\"type\":\"histogram\"}],\"mesh3d\":[{\"colorbar\":{\"outlinewidth\":0,\"ticks\":\"\"},\"type\":\"mesh3d\"}],\"parcoords\":[{\"line\":{\"colorbar\":{\"outlinewidth\":0,\"ticks\":\"\"}},\"type\":\"parcoords\"}],\"pie\":[{\"automargin\":true,\"type\":\"pie\"}],\"scatter3d\":[{\"line\":{\"colorbar\":{\"outlinewidth\":0,\"ticks\":\"\"}},\"marker\":{\"colorbar\":{\"outlinewidth\":0,\"ticks\":\"\"}},\"type\":\"scatter3d\"}],\"scattercarpet\":[{\"marker\":{\"colorbar\":{\"outlinewidth\":0,\"ticks\":\"\"}},\"type\":\"scattercarpet\"}],\"scattergeo\":[{\"marker\":{\"colorbar\":{\"outlinewidth\":0,\"ticks\":\"\"}},\"type\":\"scattergeo\"}],\"scattergl\":[{\"marker\":{\"colorbar\":{\"outlinewidth\":0,\"ticks\":\"\"}},\"type\":\"scattergl\"}],\"scattermapbox\":[{\"marker\":{\"colorbar\":{\"outlinewidth\":0,\"ticks\":\"\"}},\"type\":\"scattermapbox\"}],\"scatterpolargl\":[{\"marker\":{\"colorbar\":{\"outlinewidth\":0,\"ticks\":\"\"}},\"type\":\"scatterpolargl\"}],\"scatterpolar\":[{\"marker\":{\"colorbar\":{\"outlinewidth\":0,\"ticks\":\"\"}},\"type\":\"scatterpolar\"}],\"scatter\":[{\"fillpattern\":{\"fillmode\":\"overlay\",\"size\":10,\"solidity\":0.2},\"type\":\"scatter\"}],\"scatterternary\":[{\"marker\":{\"colorbar\":{\"outlinewidth\":0,\"ticks\":\"\"}},\"type\":\"scatterternary\"}],\"surface\":[{\"colorbar\":{\"outlinewidth\":0,\"ticks\":\"\"},\"colorscale\":[[0.0,\"#0d0887\"],[0.1111111111111111,\"#46039f\"],[0.2222222222222222,\"#7201a8\"],[0.3333333333333333,\"#9c179e\"],[0.4444444444444444,\"#bd3786\"],[0.5555555555555556,\"#d8576b\"],[0.6666666666666666,\"#ed7953\"],[0.7777777777777778,\"#fb9f3a\"],[0.8888888888888888,\"#fdca26\"],[1.0,\"#f0f921\"]],\"type\":\"surface\"}],\"table\":[{\"cells\":{\"fill\":{\"color\":\"#EBF0F8\"},\"line\":{\"color\":\"white\"}},\"header\":{\"fill\":{\"color\":\"#C8D4E3\"},\"line\":{\"color\":\"white\"}},\"type\":\"table\"}]},\"layout\":{\"annotationdefaults\":{\"arrowcolor\":\"#2a3f5f\",\"arrowhead\":0,\"arrowwidth\":1},\"autotypenumbers\":\"strict\",\"coloraxis\":{\"colorbar\":{\"outlinewidth\":0,\"ticks\":\"\"}},\"colorscale\":{\"diverging\":[[0,\"#8e0152\"],[0.1,\"#c51b7d\"],[0.2,\"#de77ae\"],[0.3,\"#f1b6da\"],[0.4,\"#fde0ef\"],[0.5,\"#f7f7f7\"],[0.6,\"#e6f5d0\"],[0.7,\"#b8e186\"],[0.8,\"#7fbc41\"],[0.9,\"#4d9221\"],[1,\"#276419\"]],\"sequential\":[[0.0,\"#0d0887\"],[0.1111111111111111,\"#46039f\"],[0.2222222222222222,\"#7201a8\"],[0.3333333333333333,\"#9c179e\"],[0.4444444444444444,\"#bd3786\"],[0.5555555555555556,\"#d8576b\"],[0.6666666666666666,\"#ed7953\"],[0.7777777777777778,\"#fb9f3a\"],[0.8888888888888888,\"#fdca26\"],[1.0,\"#f0f921\"]],\"sequentialminus\":[[0.0,\"#0d0887\"],[0.1111111111111111,\"#46039f\"],[0.2222222222222222,\"#7201a8\"],[0.3333333333333333,\"#9c179e\"],[0.4444444444444444,\"#bd3786\"],[0.5555555555555556,\"#d8576b\"],[0.6666666666666666,\"#ed7953\"],[0.7777777777777778,\"#fb9f3a\"],[0.8888888888888888,\"#fdca26\"],[1.0,\"#f0f921\"]]},\"colorway\":[\"#636efa\",\"#EF553B\",\"#00cc96\",\"#ab63fa\",\"#FFA15A\",\"#19d3f3\",\"#FF6692\",\"#B6E880\",\"#FF97FF\",\"#FECB52\"],\"font\":{\"color\":\"#2a3f5f\"},\"geo\":{\"bgcolor\":\"white\",\"lakecolor\":\"white\",\"landcolor\":\"white\",\"showlakes\":true,\"showland\":true,\"subunitcolor\":\"#C8D4E3\"},\"hoverlabel\":{\"align\":\"left\"},\"hovermode\":\"closest\",\"mapbox\":{\"style\":\"light\"},\"paper_bgcolor\":\"white\",\"plot_bgcolor\":\"white\",\"polar\":{\"angularaxis\":{\"gridcolor\":\"#EBF0F8\",\"linecolor\":\"#EBF0F8\",\"ticks\":\"\"},\"bgcolor\":\"white\",\"radialaxis\":{\"gridcolor\":\"#EBF0F8\",\"linecolor\":\"#EBF0F8\",\"ticks\":\"\"}},\"scene\":{\"xaxis\":{\"backgroundcolor\":\"white\",\"gridcolor\":\"#DFE8F3\",\"gridwidth\":2,\"linecolor\":\"#EBF0F8\",\"showbackground\":true,\"ticks\":\"\",\"zerolinecolor\":\"#EBF0F8\"},\"yaxis\":{\"backgroundcolor\":\"white\",\"gridcolor\":\"#DFE8F3\",\"gridwidth\":2,\"linecolor\":\"#EBF0F8\",\"showbackground\":true,\"ticks\":\"\",\"zerolinecolor\":\"#EBF0F8\"},\"zaxis\":{\"backgroundcolor\":\"white\",\"gridcolor\":\"#DFE8F3\",\"gridwidth\":2,\"linecolor\":\"#EBF0F8\",\"showbackground\":true,\"ticks\":\"\",\"zerolinecolor\":\"#EBF0F8\"}},\"shapedefaults\":{\"line\":{\"color\":\"#2a3f5f\"}},\"ternary\":{\"aaxis\":{\"gridcolor\":\"#DFE8F3\",\"linecolor\":\"#A2B1C6\",\"ticks\":\"\"},\"baxis\":{\"gridcolor\":\"#DFE8F3\",\"linecolor\":\"#A2B1C6\",\"ticks\":\"\"},\"bgcolor\":\"white\",\"caxis\":{\"gridcolor\":\"#DFE8F3\",\"linecolor\":\"#A2B1C6\",\"ticks\":\"\"}},\"title\":{\"x\":0.05},\"xaxis\":{\"automargin\":true,\"gridcolor\":\"#EBF0F8\",\"linecolor\":\"#EBF0F8\",\"ticks\":\"\",\"title\":{\"standoff\":15},\"zerolinecolor\":\"#EBF0F8\",\"zerolinewidth\":2},\"yaxis\":{\"automargin\":true,\"gridcolor\":\"#EBF0F8\",\"linecolor\":\"#EBF0F8\",\"ticks\":\"\",\"title\":{\"standoff\":15},\"zerolinecolor\":\"#EBF0F8\",\"zerolinewidth\":2}}},\"xaxis\":{\"anchor\":\"y\",\"domain\":[0.0,0.175],\"showgrid\":true},\"yaxis\":{\"anchor\":\"x\",\"domain\":[0.7555555555555555,1.0],\"showgrid\":true},\"xaxis2\":{\"anchor\":\"y2\",\"domain\":[0.275,0.45],\"showgrid\":true},\"yaxis2\":{\"anchor\":\"x2\",\"domain\":[0.7555555555555555,1.0],\"showgrid\":true},\"xaxis3\":{\"anchor\":\"y3\",\"domain\":[0.55,0.7250000000000001],\"showgrid\":true},\"yaxis3\":{\"anchor\":\"x3\",\"domain\":[0.7555555555555555,1.0],\"showgrid\":true},\"xaxis4\":{\"anchor\":\"y4\",\"domain\":[0.825,1.0],\"showgrid\":true},\"yaxis4\":{\"anchor\":\"x4\",\"domain\":[0.7555555555555555,1.0],\"showgrid\":true},\"xaxis5\":{\"anchor\":\"y5\",\"domain\":[0.0,0.175],\"showgrid\":true},\"yaxis5\":{\"anchor\":\"x5\",\"domain\":[0.37777777777777777,0.6222222222222222],\"showgrid\":true},\"xaxis6\":{\"anchor\":\"y6\",\"domain\":[0.275,0.45],\"showgrid\":true},\"yaxis6\":{\"anchor\":\"x6\",\"domain\":[0.37777777777777777,0.6222222222222222],\"showgrid\":true},\"xaxis7\":{\"anchor\":\"y7\",\"domain\":[0.55,0.7250000000000001],\"showgrid\":true},\"yaxis7\":{\"anchor\":\"x7\",\"domain\":[0.37777777777777777,0.6222222222222222],\"showgrid\":true},\"xaxis8\":{\"anchor\":\"y8\",\"domain\":[0.825,1.0],\"showgrid\":true},\"yaxis8\":{\"anchor\":\"x8\",\"domain\":[0.37777777777777777,0.6222222222222222],\"showgrid\":true},\"xaxis9\":{\"anchor\":\"y9\",\"domain\":[0.0,0.175],\"showgrid\":true},\"yaxis9\":{\"anchor\":\"x9\",\"domain\":[0.0,0.24444444444444446],\"showgrid\":true},\"xaxis10\":{\"anchor\":\"y10\",\"domain\":[0.275,0.45],\"showgrid\":true},\"yaxis10\":{\"anchor\":\"x10\",\"domain\":[0.0,0.24444444444444446],\"showgrid\":true},\"xaxis11\":{\"anchor\":\"y11\",\"domain\":[0.55,0.7250000000000001],\"showgrid\":true},\"yaxis11\":{\"anchor\":\"x11\",\"domain\":[0.0,0.24444444444444446],\"showgrid\":true},\"xaxis12\":{\"anchor\":\"y12\",\"domain\":[0.825,1.0],\"showgrid\":true},\"yaxis12\":{\"anchor\":\"x12\",\"domain\":[0.0,0.24444444444444446],\"showgrid\":true},\"annotations\":[{\"font\":{\"size\":16},\"showarrow\":false,\"text\":\"Topic 0\",\"x\":0.0875,\"xanchor\":\"center\",\"xref\":\"paper\",\"y\":1.0,\"yanchor\":\"bottom\",\"yref\":\"paper\"},{\"font\":{\"size\":16},\"showarrow\":false,\"text\":\"Topic 1\",\"x\":0.36250000000000004,\"xanchor\":\"center\",\"xref\":\"paper\",\"y\":1.0,\"yanchor\":\"bottom\",\"yref\":\"paper\"},{\"font\":{\"size\":16},\"showarrow\":false,\"text\":\"Topic 2\",\"x\":0.6375000000000001,\"xanchor\":\"center\",\"xref\":\"paper\",\"y\":1.0,\"yanchor\":\"bottom\",\"yref\":\"paper\"},{\"font\":{\"size\":16},\"showarrow\":false,\"text\":\"Topic 3\",\"x\":0.9125,\"xanchor\":\"center\",\"xref\":\"paper\",\"y\":1.0,\"yanchor\":\"bottom\",\"yref\":\"paper\"},{\"font\":{\"size\":16},\"showarrow\":false,\"text\":\"Topic 4\",\"x\":0.0875,\"xanchor\":\"center\",\"xref\":\"paper\",\"y\":0.6222222222222222,\"yanchor\":\"bottom\",\"yref\":\"paper\"},{\"font\":{\"size\":16},\"showarrow\":false,\"text\":\"Topic 5\",\"x\":0.36250000000000004,\"xanchor\":\"center\",\"xref\":\"paper\",\"y\":0.6222222222222222,\"yanchor\":\"bottom\",\"yref\":\"paper\"},{\"font\":{\"size\":16},\"showarrow\":false,\"text\":\"Topic 6\",\"x\":0.6375000000000001,\"xanchor\":\"center\",\"xref\":\"paper\",\"y\":0.6222222222222222,\"yanchor\":\"bottom\",\"yref\":\"paper\"},{\"font\":{\"size\":16},\"showarrow\":false,\"text\":\"Topic 7\",\"x\":0.9125,\"xanchor\":\"center\",\"xref\":\"paper\",\"y\":0.6222222222222222,\"yanchor\":\"bottom\",\"yref\":\"paper\"},{\"font\":{\"size\":16},\"showarrow\":false,\"text\":\"Topic 8\",\"x\":0.0875,\"xanchor\":\"center\",\"xref\":\"paper\",\"y\":0.24444444444444446,\"yanchor\":\"bottom\",\"yref\":\"paper\"},{\"font\":{\"size\":16},\"showarrow\":false,\"text\":\"Topic 9\",\"x\":0.36250000000000004,\"xanchor\":\"center\",\"xref\":\"paper\",\"y\":0.24444444444444446,\"yanchor\":\"bottom\",\"yref\":\"paper\"}],\"title\":{\"font\":{\"size\":22,\"color\":\"Black\"},\"text\":\"Topic Word Scores\",\"x\":0.5,\"xanchor\":\"center\",\"yanchor\":\"top\"},\"hoverlabel\":{\"font\":{\"size\":16,\"family\":\"Rockwell\"},\"bgcolor\":\"white\"},\"showlegend\":false,\"width\":1000,\"height\":750},                        {\"responsive\": true}                    ).then(function(){\n",
              "                            \n",
              "var gd = document.getElementById('309cec2f-a9d5-46d2-8c8d-c9a7b1db4189');\n",
              "var x = new MutationObserver(function (mutations, observer) {{\n",
              "        var display = window.getComputedStyle(gd).display;\n",
              "        if (!display || display === 'none') {{\n",
              "            console.log([gd, 'removed!']);\n",
              "            Plotly.purge(gd);\n",
              "            observer.disconnect();\n",
              "        }}\n",
              "}});\n",
              "\n",
              "// Listen for the removal of the full notebook cells\n",
              "var notebookContainer = gd.closest('#notebook-container');\n",
              "if (notebookContainer) {{\n",
              "    x.observe(notebookContainer, {childList: true});\n",
              "}}\n",
              "\n",
              "// Listen for the clearing of the current output cell\n",
              "var outputEl = gd.closest('.output');\n",
              "if (outputEl) {{\n",
              "    x.observe(outputEl, {childList: true});\n",
              "}}\n",
              "\n",
              "                        })                };                            </script>        </div>\n",
              "</body>\n",
              "</html>"
            ]
          },
          "metadata": {}
        }
      ]
    },
    {
      "cell_type": "markdown",
      "source": [
        "## Extra Question (5 Points)\n",
        "\n",
        "**Compare the results generated by the four topic modeling algorithms (LDA, LSA, BERTopic, Modified BERTopic), which one is better? You should explain the reasons in details.**\n",
        "\n",
        "**This question will compensate for any points deducted in this exercise. Maximum marks for the exercise is 100 points.**"
      ],
      "metadata": {
        "id": "d89ODUx3jjJV"
      }
    },
    {
      "cell_type": "code",
      "source": [
        "print(\"After comparing the results from LDA, LSA, BERTopic, and Modified BERTopic, it’s clear that each has its strengths, but some perform better than others. \"\n",
        "      \"LSA tends to produce vague topics and struggles with overlapping ideas, while LDA does a bit better by creating more distinct topic groups. \"\n",
        "      \"However, both still rely on older techniques and sometimes miss the deeper context in text. \"\n",
        "      \"BERTopic stands out because it uses modern language models to understand the meaning behind words, leading to more coherent and relevant topics. \"\n",
        "      \"The Modified BERTopic goes a step further, improving accuracy by tweaking the model settings or embeddings. \"\n",
        "      \"The Modified BERTopic gives the best results because it captures subtle meanings and delivers clear, well-separated topics.\")"
      ],
      "metadata": {
        "id": "OK34nZtojhmm",
        "colab": {
          "base_uri": "https://localhost:8080/"
        },
        "outputId": "1abeab34-a56e-4782-c930-019818ca518a"
      },
      "execution_count": null,
      "outputs": [
        {
          "output_type": "stream",
          "name": "stdout",
          "text": [
            "After comparing the results from LDA, LSA, BERTopic, and Modified BERTopic, it’s clear that each has its strengths, but some perform better than others. LSA tends to produce vague topics and struggles with overlapping ideas, while LDA does a bit better by creating more distinct topic groups. However, both still rely on older techniques and sometimes miss the deeper context in text. BERTopic stands out because it uses modern language models to understand the meaning behind words, leading to more coherent and relevant topics. The Modified BERTopic goes a step further, improving accuracy by tweaking the model settings or embeddings. The Modified BERTopic gives the best results because it captures subtle meanings and delivers clear, well-separated topics.\n"
          ]
        }
      ]
    },
    {
      "cell_type": "markdown",
      "source": [
        "# Mandatory Question"
      ],
      "metadata": {
        "id": "VEs-OoDEhTW4"
      }
    },
    {
      "cell_type": "markdown",
      "source": [
        "**Important: Reflective Feedback on this exercise**\n",
        "\n",
        "Please provide your thoughts and feedback on the exercises you completed in this assignment.\n",
        "\n",
        "Consider the following points in your response:\n",
        "\n",
        "**Learning Experience:** Describe your overall learning experience in working with text data and extracting features using various topic modeling algorithms. Did you understand these algorithms and did the implementations helped in grasping the nuances of feature extraction from text data.\n",
        "\n",
        "**Challenges Encountered:** Were there specific difficulties in completing this exercise?\n",
        "\n",
        "Relevance to Your Field of Study: How does this exercise relate to the field of NLP?\n",
        "\n",
        "**(Your submission will not be graded if this question is left unanswered)**\n",
        "\n"
      ],
      "metadata": {
        "id": "IUKC7suYhVl0"
      }
    },
    {
      "cell_type": "code",
      "source": [
        "# Your answer here (no code for this question, write down your answer as detail as possible for the above questions):\n",
        "\n",
        "'''\n",
        "This exercise gave me a clearer understanding of how different topic modeling algorithms work, especially in extracting meaningful features from text data.\n",
        "Implementing LDA, LSA, BERTopic, and Modified BERTopic helped me see their strengths and limitations firsthand.\n",
        "One challenge I faced was tuning parameters to get coherent topics, particularly with LDA and LSA.\n",
        "This assignment was highly relevant to NLP, as topic modeling is a key technique for uncovering structure and meaning in large text datasets.\n",
        "'''"
      ],
      "metadata": {
        "id": "CAq0DZWAhU9m",
        "colab": {
          "base_uri": "https://localhost:8080/",
          "height": 90
        },
        "outputId": "5900ce67-01a0-4320-810f-6689d5a95e12"
      },
      "execution_count": null,
      "outputs": [
        {
          "output_type": "execute_result",
          "data": {
            "text/plain": [
              "'\\nThis exercise gave me a clearer understanding of how different topic modeling algorithms work, especially in extracting meaningful features from text data. \\nImplementing LDA, LSA, BERTopic, and Modified BERTopic helped me see their strengths and limitations firsthand. \\nOne challenge I faced was tuning parameters to get coherent topics, particularly with LDA and LSA. \\nThis assignment was highly relevant to NLP, as topic modeling is a key technique for uncovering structure and meaning in large text datasets.\\n'"
            ],
            "application/vnd.google.colaboratory.intrinsic+json": {
              "type": "string"
            }
          },
          "metadata": {},
          "execution_count": 35
        }
      ]
    }
  ],
  "metadata": {
    "kernelspec": {
      "display_name": "Python 3 (ipykernel)",
      "language": "python",
      "name": "python3"
    },
    "language_info": {
      "codemirror_mode": {
        "name": "ipython",
        "version": 3
      },
      "file_extension": ".py",
      "mimetype": "text/x-python",
      "name": "python",
      "nbconvert_exporter": "python",
      "pygments_lexer": "ipython3",
      "version": "3.9.12"
    },
    "colab": {
      "provenance": [],
      "toc_visible": true
    },
    "widgets": {
      "application/vnd.jupyter.widget-state+json": {
        "a01a0dcc944540ff91ed27af1c4493fe": {
          "model_module": "@jupyter-widgets/controls",
          "model_name": "HBoxModel",
          "model_module_version": "1.5.0",
          "state": {
            "_dom_classes": [],
            "_model_module": "@jupyter-widgets/controls",
            "_model_module_version": "1.5.0",
            "_model_name": "HBoxModel",
            "_view_count": null,
            "_view_module": "@jupyter-widgets/controls",
            "_view_module_version": "1.5.0",
            "_view_name": "HBoxView",
            "box_style": "",
            "children": [
              "IPY_MODEL_3be7bb5948ef43b88a7e9f85ff519dc1",
              "IPY_MODEL_a51cc6e3c5374c47b0ea1fda051c09a7",
              "IPY_MODEL_238d13ae71104c92a00e93d0610b341a"
            ],
            "layout": "IPY_MODEL_951cc73094624c589f11f4d58f5db387"
          }
        },
        "3be7bb5948ef43b88a7e9f85ff519dc1": {
          "model_module": "@jupyter-widgets/controls",
          "model_name": "HTMLModel",
          "model_module_version": "1.5.0",
          "state": {
            "_dom_classes": [],
            "_model_module": "@jupyter-widgets/controls",
            "_model_module_version": "1.5.0",
            "_model_name": "HTMLModel",
            "_view_count": null,
            "_view_module": "@jupyter-widgets/controls",
            "_view_module_version": "1.5.0",
            "_view_name": "HTMLView",
            "description": "",
            "description_tooltip": null,
            "layout": "IPY_MODEL_7e32673fa4bc424fb2bd08473ff41b78",
            "placeholder": "​",
            "style": "IPY_MODEL_bb9c9b84198d45b5827ea0885af5d9e9",
            "value": "Batches: 100%"
          }
        },
        "a51cc6e3c5374c47b0ea1fda051c09a7": {
          "model_module": "@jupyter-widgets/controls",
          "model_name": "FloatProgressModel",
          "model_module_version": "1.5.0",
          "state": {
            "_dom_classes": [],
            "_model_module": "@jupyter-widgets/controls",
            "_model_module_version": "1.5.0",
            "_model_name": "FloatProgressModel",
            "_view_count": null,
            "_view_module": "@jupyter-widgets/controls",
            "_view_module_version": "1.5.0",
            "_view_name": "ProgressView",
            "bar_style": "success",
            "description": "",
            "description_tooltip": null,
            "layout": "IPY_MODEL_736925ca14c74579891096f4185b23bc",
            "max": 63,
            "min": 0,
            "orientation": "horizontal",
            "style": "IPY_MODEL_505e32a6ced54f1e90a74f92ae196c51",
            "value": 63
          }
        },
        "238d13ae71104c92a00e93d0610b341a": {
          "model_module": "@jupyter-widgets/controls",
          "model_name": "HTMLModel",
          "model_module_version": "1.5.0",
          "state": {
            "_dom_classes": [],
            "_model_module": "@jupyter-widgets/controls",
            "_model_module_version": "1.5.0",
            "_model_name": "HTMLModel",
            "_view_count": null,
            "_view_module": "@jupyter-widgets/controls",
            "_view_module_version": "1.5.0",
            "_view_name": "HTMLView",
            "description": "",
            "description_tooltip": null,
            "layout": "IPY_MODEL_9e0cc7b1e50f4c11aa8df800cf51965f",
            "placeholder": "​",
            "style": "IPY_MODEL_cfd6194c88ce453e9c41382f33f2bc44",
            "value": " 63/63 [02:48&lt;00:00,  3.89it/s]"
          }
        },
        "951cc73094624c589f11f4d58f5db387": {
          "model_module": "@jupyter-widgets/base",
          "model_name": "LayoutModel",
          "model_module_version": "1.2.0",
          "state": {
            "_model_module": "@jupyter-widgets/base",
            "_model_module_version": "1.2.0",
            "_model_name": "LayoutModel",
            "_view_count": null,
            "_view_module": "@jupyter-widgets/base",
            "_view_module_version": "1.2.0",
            "_view_name": "LayoutView",
            "align_content": null,
            "align_items": null,
            "align_self": null,
            "border": null,
            "bottom": null,
            "display": null,
            "flex": null,
            "flex_flow": null,
            "grid_area": null,
            "grid_auto_columns": null,
            "grid_auto_flow": null,
            "grid_auto_rows": null,
            "grid_column": null,
            "grid_gap": null,
            "grid_row": null,
            "grid_template_areas": null,
            "grid_template_columns": null,
            "grid_template_rows": null,
            "height": null,
            "justify_content": null,
            "justify_items": null,
            "left": null,
            "margin": null,
            "max_height": null,
            "max_width": null,
            "min_height": null,
            "min_width": null,
            "object_fit": null,
            "object_position": null,
            "order": null,
            "overflow": null,
            "overflow_x": null,
            "overflow_y": null,
            "padding": null,
            "right": null,
            "top": null,
            "visibility": null,
            "width": null
          }
        },
        "7e32673fa4bc424fb2bd08473ff41b78": {
          "model_module": "@jupyter-widgets/base",
          "model_name": "LayoutModel",
          "model_module_version": "1.2.0",
          "state": {
            "_model_module": "@jupyter-widgets/base",
            "_model_module_version": "1.2.0",
            "_model_name": "LayoutModel",
            "_view_count": null,
            "_view_module": "@jupyter-widgets/base",
            "_view_module_version": "1.2.0",
            "_view_name": "LayoutView",
            "align_content": null,
            "align_items": null,
            "align_self": null,
            "border": null,
            "bottom": null,
            "display": null,
            "flex": null,
            "flex_flow": null,
            "grid_area": null,
            "grid_auto_columns": null,
            "grid_auto_flow": null,
            "grid_auto_rows": null,
            "grid_column": null,
            "grid_gap": null,
            "grid_row": null,
            "grid_template_areas": null,
            "grid_template_columns": null,
            "grid_template_rows": null,
            "height": null,
            "justify_content": null,
            "justify_items": null,
            "left": null,
            "margin": null,
            "max_height": null,
            "max_width": null,
            "min_height": null,
            "min_width": null,
            "object_fit": null,
            "object_position": null,
            "order": null,
            "overflow": null,
            "overflow_x": null,
            "overflow_y": null,
            "padding": null,
            "right": null,
            "top": null,
            "visibility": null,
            "width": null
          }
        },
        "bb9c9b84198d45b5827ea0885af5d9e9": {
          "model_module": "@jupyter-widgets/controls",
          "model_name": "DescriptionStyleModel",
          "model_module_version": "1.5.0",
          "state": {
            "_model_module": "@jupyter-widgets/controls",
            "_model_module_version": "1.5.0",
            "_model_name": "DescriptionStyleModel",
            "_view_count": null,
            "_view_module": "@jupyter-widgets/base",
            "_view_module_version": "1.2.0",
            "_view_name": "StyleView",
            "description_width": ""
          }
        },
        "736925ca14c74579891096f4185b23bc": {
          "model_module": "@jupyter-widgets/base",
          "model_name": "LayoutModel",
          "model_module_version": "1.2.0",
          "state": {
            "_model_module": "@jupyter-widgets/base",
            "_model_module_version": "1.2.0",
            "_model_name": "LayoutModel",
            "_view_count": null,
            "_view_module": "@jupyter-widgets/base",
            "_view_module_version": "1.2.0",
            "_view_name": "LayoutView",
            "align_content": null,
            "align_items": null,
            "align_self": null,
            "border": null,
            "bottom": null,
            "display": null,
            "flex": null,
            "flex_flow": null,
            "grid_area": null,
            "grid_auto_columns": null,
            "grid_auto_flow": null,
            "grid_auto_rows": null,
            "grid_column": null,
            "grid_gap": null,
            "grid_row": null,
            "grid_template_areas": null,
            "grid_template_columns": null,
            "grid_template_rows": null,
            "height": null,
            "justify_content": null,
            "justify_items": null,
            "left": null,
            "margin": null,
            "max_height": null,
            "max_width": null,
            "min_height": null,
            "min_width": null,
            "object_fit": null,
            "object_position": null,
            "order": null,
            "overflow": null,
            "overflow_x": null,
            "overflow_y": null,
            "padding": null,
            "right": null,
            "top": null,
            "visibility": null,
            "width": null
          }
        },
        "505e32a6ced54f1e90a74f92ae196c51": {
          "model_module": "@jupyter-widgets/controls",
          "model_name": "ProgressStyleModel",
          "model_module_version": "1.5.0",
          "state": {
            "_model_module": "@jupyter-widgets/controls",
            "_model_module_version": "1.5.0",
            "_model_name": "ProgressStyleModel",
            "_view_count": null,
            "_view_module": "@jupyter-widgets/base",
            "_view_module_version": "1.2.0",
            "_view_name": "StyleView",
            "bar_color": null,
            "description_width": ""
          }
        },
        "9e0cc7b1e50f4c11aa8df800cf51965f": {
          "model_module": "@jupyter-widgets/base",
          "model_name": "LayoutModel",
          "model_module_version": "1.2.0",
          "state": {
            "_model_module": "@jupyter-widgets/base",
            "_model_module_version": "1.2.0",
            "_model_name": "LayoutModel",
            "_view_count": null,
            "_view_module": "@jupyter-widgets/base",
            "_view_module_version": "1.2.0",
            "_view_name": "LayoutView",
            "align_content": null,
            "align_items": null,
            "align_self": null,
            "border": null,
            "bottom": null,
            "display": null,
            "flex": null,
            "flex_flow": null,
            "grid_area": null,
            "grid_auto_columns": null,
            "grid_auto_flow": null,
            "grid_auto_rows": null,
            "grid_column": null,
            "grid_gap": null,
            "grid_row": null,
            "grid_template_areas": null,
            "grid_template_columns": null,
            "grid_template_rows": null,
            "height": null,
            "justify_content": null,
            "justify_items": null,
            "left": null,
            "margin": null,
            "max_height": null,
            "max_width": null,
            "min_height": null,
            "min_width": null,
            "object_fit": null,
            "object_position": null,
            "order": null,
            "overflow": null,
            "overflow_x": null,
            "overflow_y": null,
            "padding": null,
            "right": null,
            "top": null,
            "visibility": null,
            "width": null
          }
        },
        "cfd6194c88ce453e9c41382f33f2bc44": {
          "model_module": "@jupyter-widgets/controls",
          "model_name": "DescriptionStyleModel",
          "model_module_version": "1.5.0",
          "state": {
            "_model_module": "@jupyter-widgets/controls",
            "_model_module_version": "1.5.0",
            "_model_name": "DescriptionStyleModel",
            "_view_count": null,
            "_view_module": "@jupyter-widgets/base",
            "_view_module_version": "1.2.0",
            "_view_name": "StyleView",
            "description_width": ""
          }
        },
        "81a59dd445394bc3897158cd2aad9ad0": {
          "model_module": "@jupyter-widgets/controls",
          "model_name": "HBoxModel",
          "model_module_version": "1.5.0",
          "state": {
            "_dom_classes": [],
            "_model_module": "@jupyter-widgets/controls",
            "_model_module_version": "1.5.0",
            "_model_name": "HBoxModel",
            "_view_count": null,
            "_view_module": "@jupyter-widgets/controls",
            "_view_module_version": "1.5.0",
            "_view_name": "HBoxView",
            "box_style": "",
            "children": [
              "IPY_MODEL_38a47460d81a401f8ff32793d4f873ba",
              "IPY_MODEL_40f74add9e084913a9ca9796b67ea063",
              "IPY_MODEL_d46c10678eef42b88e51098dc0a50520"
            ],
            "layout": "IPY_MODEL_7681f5fba352401c870a022c92323823"
          }
        },
        "38a47460d81a401f8ff32793d4f873ba": {
          "model_module": "@jupyter-widgets/controls",
          "model_name": "HTMLModel",
          "model_module_version": "1.5.0",
          "state": {
            "_dom_classes": [],
            "_model_module": "@jupyter-widgets/controls",
            "_model_module_version": "1.5.0",
            "_model_name": "HTMLModel",
            "_view_count": null,
            "_view_module": "@jupyter-widgets/controls",
            "_view_module_version": "1.5.0",
            "_view_name": "HTMLView",
            "description": "",
            "description_tooltip": null,
            "layout": "IPY_MODEL_2903822d90b745e4a22b476737c47257",
            "placeholder": "​",
            "style": "IPY_MODEL_84e5fc856e794cd59cc2526e6847fb43",
            "value": "Batches: 100%"
          }
        },
        "40f74add9e084913a9ca9796b67ea063": {
          "model_module": "@jupyter-widgets/controls",
          "model_name": "FloatProgressModel",
          "model_module_version": "1.5.0",
          "state": {
            "_dom_classes": [],
            "_model_module": "@jupyter-widgets/controls",
            "_model_module_version": "1.5.0",
            "_model_name": "FloatProgressModel",
            "_view_count": null,
            "_view_module": "@jupyter-widgets/controls",
            "_view_module_version": "1.5.0",
            "_view_name": "ProgressView",
            "bar_style": "success",
            "description": "",
            "description_tooltip": null,
            "layout": "IPY_MODEL_3345772def7442119ff4e83932c40d23",
            "max": 63,
            "min": 0,
            "orientation": "horizontal",
            "style": "IPY_MODEL_f78748445573433f8cc3224535421bc0",
            "value": 63
          }
        },
        "d46c10678eef42b88e51098dc0a50520": {
          "model_module": "@jupyter-widgets/controls",
          "model_name": "HTMLModel",
          "model_module_version": "1.5.0",
          "state": {
            "_dom_classes": [],
            "_model_module": "@jupyter-widgets/controls",
            "_model_module_version": "1.5.0",
            "_model_name": "HTMLModel",
            "_view_count": null,
            "_view_module": "@jupyter-widgets/controls",
            "_view_module_version": "1.5.0",
            "_view_name": "HTMLView",
            "description": "",
            "description_tooltip": null,
            "layout": "IPY_MODEL_e4a8339b3e2d414ab5870af4e0d3a236",
            "placeholder": "​",
            "style": "IPY_MODEL_377dee13315e488298067a4e8b6320e3",
            "value": " 63/63 [02:49&lt;00:00,  2.28it/s]"
          }
        },
        "7681f5fba352401c870a022c92323823": {
          "model_module": "@jupyter-widgets/base",
          "model_name": "LayoutModel",
          "model_module_version": "1.2.0",
          "state": {
            "_model_module": "@jupyter-widgets/base",
            "_model_module_version": "1.2.0",
            "_model_name": "LayoutModel",
            "_view_count": null,
            "_view_module": "@jupyter-widgets/base",
            "_view_module_version": "1.2.0",
            "_view_name": "LayoutView",
            "align_content": null,
            "align_items": null,
            "align_self": null,
            "border": null,
            "bottom": null,
            "display": null,
            "flex": null,
            "flex_flow": null,
            "grid_area": null,
            "grid_auto_columns": null,
            "grid_auto_flow": null,
            "grid_auto_rows": null,
            "grid_column": null,
            "grid_gap": null,
            "grid_row": null,
            "grid_template_areas": null,
            "grid_template_columns": null,
            "grid_template_rows": null,
            "height": null,
            "justify_content": null,
            "justify_items": null,
            "left": null,
            "margin": null,
            "max_height": null,
            "max_width": null,
            "min_height": null,
            "min_width": null,
            "object_fit": null,
            "object_position": null,
            "order": null,
            "overflow": null,
            "overflow_x": null,
            "overflow_y": null,
            "padding": null,
            "right": null,
            "top": null,
            "visibility": null,
            "width": null
          }
        },
        "2903822d90b745e4a22b476737c47257": {
          "model_module": "@jupyter-widgets/base",
          "model_name": "LayoutModel",
          "model_module_version": "1.2.0",
          "state": {
            "_model_module": "@jupyter-widgets/base",
            "_model_module_version": "1.2.0",
            "_model_name": "LayoutModel",
            "_view_count": null,
            "_view_module": "@jupyter-widgets/base",
            "_view_module_version": "1.2.0",
            "_view_name": "LayoutView",
            "align_content": null,
            "align_items": null,
            "align_self": null,
            "border": null,
            "bottom": null,
            "display": null,
            "flex": null,
            "flex_flow": null,
            "grid_area": null,
            "grid_auto_columns": null,
            "grid_auto_flow": null,
            "grid_auto_rows": null,
            "grid_column": null,
            "grid_gap": null,
            "grid_row": null,
            "grid_template_areas": null,
            "grid_template_columns": null,
            "grid_template_rows": null,
            "height": null,
            "justify_content": null,
            "justify_items": null,
            "left": null,
            "margin": null,
            "max_height": null,
            "max_width": null,
            "min_height": null,
            "min_width": null,
            "object_fit": null,
            "object_position": null,
            "order": null,
            "overflow": null,
            "overflow_x": null,
            "overflow_y": null,
            "padding": null,
            "right": null,
            "top": null,
            "visibility": null,
            "width": null
          }
        },
        "84e5fc856e794cd59cc2526e6847fb43": {
          "model_module": "@jupyter-widgets/controls",
          "model_name": "DescriptionStyleModel",
          "model_module_version": "1.5.0",
          "state": {
            "_model_module": "@jupyter-widgets/controls",
            "_model_module_version": "1.5.0",
            "_model_name": "DescriptionStyleModel",
            "_view_count": null,
            "_view_module": "@jupyter-widgets/base",
            "_view_module_version": "1.2.0",
            "_view_name": "StyleView",
            "description_width": ""
          }
        },
        "3345772def7442119ff4e83932c40d23": {
          "model_module": "@jupyter-widgets/base",
          "model_name": "LayoutModel",
          "model_module_version": "1.2.0",
          "state": {
            "_model_module": "@jupyter-widgets/base",
            "_model_module_version": "1.2.0",
            "_model_name": "LayoutModel",
            "_view_count": null,
            "_view_module": "@jupyter-widgets/base",
            "_view_module_version": "1.2.0",
            "_view_name": "LayoutView",
            "align_content": null,
            "align_items": null,
            "align_self": null,
            "border": null,
            "bottom": null,
            "display": null,
            "flex": null,
            "flex_flow": null,
            "grid_area": null,
            "grid_auto_columns": null,
            "grid_auto_flow": null,
            "grid_auto_rows": null,
            "grid_column": null,
            "grid_gap": null,
            "grid_row": null,
            "grid_template_areas": null,
            "grid_template_columns": null,
            "grid_template_rows": null,
            "height": null,
            "justify_content": null,
            "justify_items": null,
            "left": null,
            "margin": null,
            "max_height": null,
            "max_width": null,
            "min_height": null,
            "min_width": null,
            "object_fit": null,
            "object_position": null,
            "order": null,
            "overflow": null,
            "overflow_x": null,
            "overflow_y": null,
            "padding": null,
            "right": null,
            "top": null,
            "visibility": null,
            "width": null
          }
        },
        "f78748445573433f8cc3224535421bc0": {
          "model_module": "@jupyter-widgets/controls",
          "model_name": "ProgressStyleModel",
          "model_module_version": "1.5.0",
          "state": {
            "_model_module": "@jupyter-widgets/controls",
            "_model_module_version": "1.5.0",
            "_model_name": "ProgressStyleModel",
            "_view_count": null,
            "_view_module": "@jupyter-widgets/base",
            "_view_module_version": "1.2.0",
            "_view_name": "StyleView",
            "bar_color": null,
            "description_width": ""
          }
        },
        "e4a8339b3e2d414ab5870af4e0d3a236": {
          "model_module": "@jupyter-widgets/base",
          "model_name": "LayoutModel",
          "model_module_version": "1.2.0",
          "state": {
            "_model_module": "@jupyter-widgets/base",
            "_model_module_version": "1.2.0",
            "_model_name": "LayoutModel",
            "_view_count": null,
            "_view_module": "@jupyter-widgets/base",
            "_view_module_version": "1.2.0",
            "_view_name": "LayoutView",
            "align_content": null,
            "align_items": null,
            "align_self": null,
            "border": null,
            "bottom": null,
            "display": null,
            "flex": null,
            "flex_flow": null,
            "grid_area": null,
            "grid_auto_columns": null,
            "grid_auto_flow": null,
            "grid_auto_rows": null,
            "grid_column": null,
            "grid_gap": null,
            "grid_row": null,
            "grid_template_areas": null,
            "grid_template_columns": null,
            "grid_template_rows": null,
            "height": null,
            "justify_content": null,
            "justify_items": null,
            "left": null,
            "margin": null,
            "max_height": null,
            "max_width": null,
            "min_height": null,
            "min_width": null,
            "object_fit": null,
            "object_position": null,
            "order": null,
            "overflow": null,
            "overflow_x": null,
            "overflow_y": null,
            "padding": null,
            "right": null,
            "top": null,
            "visibility": null,
            "width": null
          }
        },
        "377dee13315e488298067a4e8b6320e3": {
          "model_module": "@jupyter-widgets/controls",
          "model_name": "DescriptionStyleModel",
          "model_module_version": "1.5.0",
          "state": {
            "_model_module": "@jupyter-widgets/controls",
            "_model_module_version": "1.5.0",
            "_model_name": "DescriptionStyleModel",
            "_view_count": null,
            "_view_module": "@jupyter-widgets/base",
            "_view_module_version": "1.2.0",
            "_view_name": "StyleView",
            "description_width": ""
          }
        }
      }
    }
  },
  "nbformat": 4,
  "nbformat_minor": 0
}